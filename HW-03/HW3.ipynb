{
  "cells": [
    {
      "cell_type": "code",
      "execution_count": 1,
      "metadata": {
        "id": "J4CCo5GTfAwX"
      },
      "outputs": [],
      "source": [
        "import pandas as pd\n",
        "import numpy as np\n",
        "import matplotlib.pyplot as plt \n",
        "import seaborn as sns\n",
        "%matplotlib inline\n",
        "\n",
        "from sklearn.model_selection import train_test_split\n",
        "from sklearn.metrics import confusion_matrix, ConfusionMatrixDisplay\n",
        "\n",
        "from tensorflow import keras\n",
        "from tensorflow.keras import layers\n",
        "\n",
        "from tensorflow.keras.models import Sequential, Model\n",
        "from tensorflow.keras.optimizers import SGD, Adam\n"
      ]
    },
    {
      "cell_type": "code",
      "execution_count": 2,
      "metadata": {
        "id": "QFjX8e7FmQ_w"
      },
      "outputs": [],
      "source": [
        "def load_and_prepare_data(X_train, y_train, X_test, y_test, is_mnist=True):\n",
        "  # Scale images to the [0, 1] range\n",
        "  X_train = X_train.astype(\"float32\") / 255\n",
        "  X_test = X_test.astype(\"float32\") / 255\n",
        "\n",
        "\n",
        "  if is_mnist:\n",
        "    # Make sure images have shape (28, 28, 1)\n",
        "    X_train = np.expand_dims(X_train, -1)\n",
        "    X_test = np.expand_dims(X_test, -1)\n",
        "\n",
        "  print(\"x_train shape:\\n\", X_train.shape)\n",
        "  print(X_train.shape[0], \"train samples\")\n",
        "  print(X_test.shape[0], \"test samples\")\n",
        "  print()\n",
        "\n",
        "\n",
        "  # convert class vectors to binary class matrices\n",
        "  y_train = keras.utils.to_categorical(y_train, 10)\n",
        "  y_test = keras.utils.to_categorical(y_test, 10)\n",
        "\n",
        "  return X_train, y_train, X_test, y_test"
      ]
    },
    {
      "cell_type": "code",
      "execution_count": 3,
      "metadata": {
        "id": "eHTSvmVQbl4u"
      },
      "outputs": [],
      "source": [
        "def eval_with_hyperparams(model, network_name=\"lenet\"):\n",
        "  accuracies = {}\n",
        "\n",
        "  epochs = [15, 20, 25, 30]\n",
        "  batch_sizes = [128, 64, 64, 32]\n",
        "  optim_tuples = [('Adam', 0.001), ('SGD', 0.001), ('Adam', 0.005), ('Adam', 0.01)]\n",
        "  optimizers = [Adam(learning_rate=0.001, beta_1=0.9), SGD(learning_rate=0.001), Adam(learning_rate=0.005, beta_1=0.9), Adam(learning_rate=0.01, beta_1=0.9)]\n",
        "\n",
        "  for i in range(len(epochs)):\n",
        "    net = model\n",
        "    net.compile(loss=\"categorical_crossentropy\", optimizer=optimizers[i], metrics=[\"accuracy\"])\n",
        "    net.fit(X_train, y_train, batch_size=batch_sizes[i], epochs=epochs[i])\n",
        "\n",
        "    # Evaluate\n",
        "    score = net.evaluate(X_test, y_test)\n",
        "    accuracies[i] = score[1]\n",
        "    print()\n",
        "  \n",
        "  best_acc = max(accuracies.values())\n",
        "  index = 0\n",
        "  for key, value in accuracies.items():\n",
        "    if value == best_acc:\n",
        "      index = key\n",
        "      break\n",
        "\n",
        "  print(f\"Below are the details of the {network_name} network hyperparameters that gave the best accuracy of {(100*best_acc):.2f}%\")\n",
        "  print(f\"Optimizer: {optim_tuples[index][0]}\")\n",
        "  print(f\"Learning rate: {optim_tuples[index][1]}\")\n",
        "  print(f\"Batch size: {batch_sizes[index]}\")\n",
        "  print(f\"Epochs: {epochs[index]}\")"
      ]
    },
    {
      "cell_type": "markdown",
      "metadata": {
        "id": "ekXHjJfj-Ju1"
      },
      "source": [
        "# Question 1\n",
        "\n",
        "---\n",
        "\n"
      ]
    },
    {
      "cell_type": "code",
      "execution_count": 4,
      "metadata": {
        "colab": {
          "base_uri": "https://localhost:8080/"
        },
        "id": "f297oD3nF2ZR",
        "outputId": "06dea65a-1477-4258-f298-fd8383388ec6"
      },
      "outputs": [
        {
          "output_type": "stream",
          "name": "stdout",
          "text": [
            "Downloading data from https://storage.googleapis.com/tensorflow/tf-keras-datasets/mnist.npz\n",
            "11490434/11490434 [==============================] - 0s 0us/step\n",
            "x_train shape:\n",
            " (60000, 28, 28, 1)\n",
            "60000 train samples\n",
            "10000 test samples\n",
            "\n"
          ]
        }
      ],
      "source": [
        "(X_train, y_train), (X_test, y_test) = keras.datasets.mnist.load_data()\n",
        "\n",
        "X_train, y_train, X_test, y_test = load_and_prepare_data(X_train, y_train, X_test, y_test)"
      ]
    },
    {
      "cell_type": "code",
      "execution_count": 5,
      "metadata": {
        "id": "4pw1zt31CK0H"
      },
      "outputs": [],
      "source": [
        "def get_network(filters=[8, 16, 32, 48, 64, 80, 96, 112, 128, 144], dense_dim=400):\n",
        "    model = Sequential([\n",
        "        # layers.Input(input=(28, 28, 1)),\n",
        "        layers.Conv2D(filters[0], kernel_size=(3, 3), activation=\"relu\", padding=\"same\", input_shape=(28, 28, 1)),\n",
        "        # layers.MaxPool2D(pool_size=(2, 2)),\n",
        "\n",
        "        layers.Conv2D(filters[1], kernel_size=(3, 3), activation=\"relu\"),\n",
        "        # layers.MaxPool2D(pool_size=(2, 2)),\n",
        "\n",
        "        layers.Conv2D(filters[2], kernel_size=(3, 3), activation=\"relu\", padding=\"same\"),\n",
        "        # layers.MaxPool2D(pool_size=(2, 2)),\n",
        "\n",
        "        layers.Conv2D(filters[3], kernel_size=(3, 3), activation=\"relu\"),\n",
        "        # layers.MaxPool2D(pool_size=(2, 2)),\n",
        "\n",
        "        layers.Conv2D(filters[4], kernel_size=(3, 3), activation=\"relu\", padding=\"same\"),\n",
        "        # layers.MaxPool2D(pool_size=(2, 2)),\n",
        "\n",
        "        layers.Conv2D(filters[5], kernel_size=(3, 3), activation=\"relu\"),\n",
        "        # layers.MaxPool2D(pool_size=(2, 2)),\n",
        "\n",
        "        layers.Conv2D(filters[6], kernel_size=(3, 3), activation=\"relu\"),\n",
        "        # layers.MaxPool2D(pool_size=(2, 2)),\n",
        "\n",
        "        layers.Conv2D(filters[7], kernel_size=(3, 3), activation=\"relu\"),\n",
        "        # layers.MaxPool2D(pool_size=(2, 2)),\n",
        "\n",
        "        layers.Conv2D(filters[8], kernel_size=(3, 3), activation=\"relu\"),\n",
        "        layers.MaxPool2D(pool_size=(2, 2)),\n",
        "\n",
        "        layers.Conv2D(filters[9], kernel_size=(3, 3), activation=\"relu\"),\n",
        "        layers.MaxPool2D(pool_size=(2, 2)),\n",
        "\n",
        "        layers.Flatten(),\n",
        "        layers.Dense(dense_dim, activation=\"relu\"),\n",
        "        layers.Dense(10, activation=\"softmax\")\n",
        "    ])\n",
        "    return model"
      ]
    },
    {
      "cell_type": "markdown",
      "metadata": {
        "id": "BunSoKioYE4I"
      },
      "source": [
        "---\n",
        "\n",
        "**1.1**\n",
        "\n",
        "A CNN network with increasing number of filters\n",
        "\n",
        "---\n",
        "\n"
      ]
    },
    {
      "cell_type": "code",
      "execution_count": null,
      "metadata": {
        "colab": {
          "base_uri": "https://localhost:8080/"
        },
        "id": "-5NDxlOjLrPR",
        "outputId": "aae43972-f62f-4b3f-e0cc-899ffbdb3932"
      },
      "outputs": [
        {
          "name": "stdout",
          "output_type": "stream",
          "text": [
            "Model: \"sequential\"\n",
            "_________________________________________________________________\n",
            " Layer (type)                Output Shape              Param #   \n",
            "=================================================================\n",
            " conv2d (Conv2D)             (None, 28, 28, 8)         80        \n",
            "                                                                 \n",
            " conv2d_1 (Conv2D)           (None, 26, 26, 16)        1168      \n",
            "                                                                 \n",
            " conv2d_2 (Conv2D)           (None, 26, 26, 32)        4640      \n",
            "                                                                 \n",
            " conv2d_3 (Conv2D)           (None, 24, 24, 48)        13872     \n",
            "                                                                 \n",
            " conv2d_4 (Conv2D)           (None, 24, 24, 64)        27712     \n",
            "                                                                 \n",
            " conv2d_5 (Conv2D)           (None, 22, 22, 80)        46160     \n",
            "                                                                 \n",
            " conv2d_6 (Conv2D)           (None, 20, 20, 96)        69216     \n",
            "                                                                 \n",
            " conv2d_7 (Conv2D)           (None, 18, 18, 112)       96880     \n",
            "                                                                 \n",
            " conv2d_8 (Conv2D)           (None, 16, 16, 128)       129152    \n",
            "                                                                 \n",
            " max_pooling2d (MaxPooling2D  (None, 8, 8, 128)        0         \n",
            " )                                                               \n",
            "                                                                 \n",
            " conv2d_9 (Conv2D)           (None, 6, 6, 144)         166032    \n",
            "                                                                 \n",
            " max_pooling2d_1 (MaxPooling  (None, 3, 3, 144)        0         \n",
            " 2D)                                                             \n",
            "                                                                 \n",
            " flatten (Flatten)           (None, 1296)              0         \n",
            "                                                                 \n",
            " dense (Dense)               (None, 144)               186768    \n",
            "                                                                 \n",
            " dense_1 (Dense)             (None, 10)                1450      \n",
            "                                                                 \n",
            "=================================================================\n",
            "Total params: 743,130\n",
            "Trainable params: 743,130\n",
            "Non-trainable params: 0\n",
            "_________________________________________________________________\n"
          ]
        }
      ],
      "source": [
        "model_regular = get_network(filters=[8, 16, 32, 48, 64, 80, 96, 112, 128, 144], dense_dim=144)\n",
        "model_regular.summary()"
      ]
    },
    {
      "cell_type": "code",
      "execution_count": null,
      "metadata": {
        "id": "bV4Hh5bXZQIb"
      },
      "outputs": [],
      "source": [
        "eval_with_hyperparams(model_regular, network_name=\"regular CNN\")"
      ]
    },
    {
      "cell_type": "markdown",
      "metadata": {
        "id": "jF5f5-hS5fLF"
      },
      "source": [
        "During the course of this experiment, I tried tuning the model using varying hyperparameters. The hyperparameters I tried include:\n",
        "1. epochs = 15, 20, 25, 30\n",
        "2. batch sizes = 128, 64, 64, 32\n",
        "3. optim = Adam with lr of 0.001, SGD with lr of 0.001, Adam with lr of 0.005, and finally Adam with lr of 0.01\n",
        "\n",
        "\n",
        "Of these hyperparamters that were tried, the following combinations gave the bet performance with an accuracy of 99.33%\n",
        "Optimizer: SGD\n",
        "Learning rate: 0.001\n",
        "Batch size: 64\n",
        "Epochs: 20\n",
        "\n",
        "We note that the performance was due to the combinations of the different hyperparameters. Here we used a batch size of 64 and learning rate of 0.001 which gave a way better performance than using a combination of 0.01 learning rate, epoch of 30, and batch size of 32. The latter combination prevented the training from converging before the training ended since the learning rate which controls the update made to the weights is large and hence perhaps bounced around global minima and didn't converge before the training ended, hence producing a poor performance."
      ]
    },
    {
      "cell_type": "markdown",
      "metadata": {
        "id": "NI7Mfl6iYVef"
      },
      "source": [
        "---\n",
        "\n",
        "**1.2**\n",
        "\n",
        "A CNN network with decreasing number of filters\n",
        "\n",
        "---\n",
        "\n"
      ]
    },
    {
      "cell_type": "code",
      "execution_count": 6,
      "metadata": {
        "colab": {
          "base_uri": "https://localhost:8080/"
        },
        "id": "p8HaLxEYYcEo",
        "outputId": "d43a2a0d-b624-4a04-efa9-b10407abb21a"
      },
      "outputs": [
        {
          "output_type": "stream",
          "name": "stdout",
          "text": [
            "Model: \"sequential\"\n",
            "_________________________________________________________________\n",
            " Layer (type)                Output Shape              Param #   \n",
            "=================================================================\n",
            " conv2d (Conv2D)             (None, 28, 28, 144)       1440      \n",
            "                                                                 \n",
            " conv2d_1 (Conv2D)           (None, 26, 26, 128)       166016    \n",
            "                                                                 \n",
            " conv2d_2 (Conv2D)           (None, 26, 26, 112)       129136    \n",
            "                                                                 \n",
            " conv2d_3 (Conv2D)           (None, 24, 24, 96)        96864     \n",
            "                                                                 \n",
            " conv2d_4 (Conv2D)           (None, 24, 24, 80)        69200     \n",
            "                                                                 \n",
            " conv2d_5 (Conv2D)           (None, 22, 22, 64)        46144     \n",
            "                                                                 \n",
            " conv2d_6 (Conv2D)           (None, 20, 20, 48)        27696     \n",
            "                                                                 \n",
            " conv2d_7 (Conv2D)           (None, 18, 18, 32)        13856     \n",
            "                                                                 \n",
            " conv2d_8 (Conv2D)           (None, 16, 16, 16)        4624      \n",
            "                                                                 \n",
            " max_pooling2d (MaxPooling2D  (None, 8, 8, 16)         0         \n",
            " )                                                               \n",
            "                                                                 \n",
            " conv2d_9 (Conv2D)           (None, 6, 6, 8)           1160      \n",
            "                                                                 \n",
            " max_pooling2d_1 (MaxPooling  (None, 3, 3, 8)          0         \n",
            " 2D)                                                             \n",
            "                                                                 \n",
            " flatten (Flatten)           (None, 72)                0         \n",
            "                                                                 \n",
            " dense (Dense)               (None, 8)                 584       \n",
            "                                                                 \n",
            " dense_1 (Dense)             (None, 10)                90        \n",
            "                                                                 \n",
            "=================================================================\n",
            "Total params: 556,810\n",
            "Trainable params: 556,810\n",
            "Non-trainable params: 0\n",
            "_________________________________________________________________\n"
          ]
        }
      ],
      "source": [
        "model_inverted = get_network(filters=[144, 128, 112, 96, 80, 64, 48, 32, 16, 8], dense_dim=8)\n",
        "model_inverted.summary()"
      ]
    },
    {
      "cell_type": "code",
      "execution_count": 7,
      "metadata": {
        "colab": {
          "base_uri": "https://localhost:8080/"
        },
        "id": "7aaK_HaXZVqT",
        "outputId": "88d9b3c6-7d93-4b47-de33-01ea21878448"
      },
      "outputs": [
        {
          "output_type": "stream",
          "name": "stdout",
          "text": [
            "Epoch 1/15\n",
            "469/469 [==============================] - 39s 63ms/step - loss: 0.6010 - accuracy: 0.8091\n",
            "Epoch 2/15\n",
            "469/469 [==============================] - 29s 61ms/step - loss: 0.1250 - accuracy: 0.9638\n",
            "Epoch 3/15\n",
            "469/469 [==============================] - 29s 61ms/step - loss: 0.0889 - accuracy: 0.9737\n",
            "Epoch 4/15\n",
            "469/469 [==============================] - 29s 61ms/step - loss: 0.0688 - accuracy: 0.9798\n",
            "Epoch 5/15\n",
            "469/469 [==============================] - 29s 61ms/step - loss: 0.0607 - accuracy: 0.9817\n",
            "Epoch 6/15\n",
            "469/469 [==============================] - 29s 61ms/step - loss: 0.0541 - accuracy: 0.9840\n",
            "Epoch 7/15\n",
            "469/469 [==============================] - 29s 61ms/step - loss: 0.0481 - accuracy: 0.9854\n",
            "Epoch 8/15\n",
            "469/469 [==============================] - 29s 61ms/step - loss: 0.0429 - accuracy: 0.9872\n",
            "Epoch 9/15\n",
            "469/469 [==============================] - 29s 61ms/step - loss: 0.0393 - accuracy: 0.9874\n",
            "Epoch 10/15\n",
            "469/469 [==============================] - 29s 61ms/step - loss: 0.0344 - accuracy: 0.9892\n",
            "Epoch 11/15\n",
            "469/469 [==============================] - 29s 61ms/step - loss: 0.0336 - accuracy: 0.9894\n",
            "Epoch 12/15\n",
            "469/469 [==============================] - 29s 61ms/step - loss: 0.0296 - accuracy: 0.9908\n",
            "Epoch 13/15\n",
            "469/469 [==============================] - 29s 61ms/step - loss: 0.0280 - accuracy: 0.9913\n",
            "Epoch 14/15\n",
            "469/469 [==============================] - 29s 61ms/step - loss: 0.0251 - accuracy: 0.9924\n",
            "Epoch 15/15\n",
            "469/469 [==============================] - 29s 61ms/step - loss: 0.0253 - accuracy: 0.9921\n",
            "313/313 [==============================] - 3s 8ms/step - loss: 0.0389 - accuracy: 0.9897\n",
            "\n",
            "Epoch 1/20\n",
            "938/938 [==============================] - 31s 31ms/step - loss: 0.0168 - accuracy: 0.9946\n",
            "Epoch 2/20\n",
            "938/938 [==============================] - 29s 31ms/step - loss: 0.0137 - accuracy: 0.9959\n",
            "Epoch 3/20\n",
            "938/938 [==============================] - 29s 31ms/step - loss: 0.0123 - accuracy: 0.9963\n",
            "Epoch 4/20\n",
            "938/938 [==============================] - 29s 31ms/step - loss: 0.0112 - accuracy: 0.9967\n",
            "Epoch 5/20\n",
            "938/938 [==============================] - 29s 31ms/step - loss: 0.0106 - accuracy: 0.9969\n",
            "Epoch 6/20\n",
            "938/938 [==============================] - 29s 31ms/step - loss: 0.0100 - accuracy: 0.9971\n",
            "Epoch 7/20\n",
            "938/938 [==============================] - 29s 31ms/step - loss: 0.0095 - accuracy: 0.9972\n",
            "Epoch 8/20\n",
            "938/938 [==============================] - 29s 31ms/step - loss: 0.0091 - accuracy: 0.9974\n",
            "Epoch 9/20\n",
            "938/938 [==============================] - 29s 31ms/step - loss: 0.0088 - accuracy: 0.9976\n",
            "Epoch 10/20\n",
            "938/938 [==============================] - 29s 31ms/step - loss: 0.0085 - accuracy: 0.9976\n",
            "Epoch 11/20\n",
            "938/938 [==============================] - 29s 31ms/step - loss: 0.0082 - accuracy: 0.9977\n",
            "Epoch 12/20\n",
            "938/938 [==============================] - 29s 31ms/step - loss: 0.0079 - accuracy: 0.9978\n",
            "Epoch 13/20\n",
            "938/938 [==============================] - 29s 31ms/step - loss: 0.0077 - accuracy: 0.9979\n",
            "Epoch 14/20\n",
            "938/938 [==============================] - 29s 31ms/step - loss: 0.0075 - accuracy: 0.9979\n",
            "Epoch 15/20\n",
            "938/938 [==============================] - 29s 31ms/step - loss: 0.0073 - accuracy: 0.9979\n",
            "Epoch 16/20\n",
            "938/938 [==============================] - 29s 31ms/step - loss: 0.0071 - accuracy: 0.9981\n",
            "Epoch 17/20\n",
            "938/938 [==============================] - 29s 31ms/step - loss: 0.0069 - accuracy: 0.9981\n",
            "Epoch 18/20\n",
            "938/938 [==============================] - 29s 31ms/step - loss: 0.0068 - accuracy: 0.9983\n",
            "Epoch 19/20\n",
            "938/938 [==============================] - 29s 31ms/step - loss: 0.0066 - accuracy: 0.9983\n",
            "Epoch 20/20\n",
            "938/938 [==============================] - 29s 31ms/step - loss: 0.0065 - accuracy: 0.9983\n",
            "313/313 [==============================] - 2s 7ms/step - loss: 0.0262 - accuracy: 0.9930\n",
            "\n",
            "Epoch 1/25\n",
            "938/938 [==============================] - 30s 31ms/step - loss: 0.1220 - accuracy: 0.9655\n",
            "Epoch 2/25\n",
            "938/938 [==============================] - 29s 31ms/step - loss: 0.1085 - accuracy: 0.9691\n",
            "Epoch 3/25\n",
            "938/938 [==============================] - 29s 31ms/step - loss: 0.1046 - accuracy: 0.9693\n",
            "Epoch 4/25\n",
            "938/938 [==============================] - 29s 31ms/step - loss: 0.1038 - accuracy: 0.9693\n",
            "Epoch 5/25\n",
            "938/938 [==============================] - 29s 31ms/step - loss: 0.1093 - accuracy: 0.9677\n",
            "Epoch 6/25\n",
            "938/938 [==============================] - 29s 30ms/step - loss: 0.0828 - accuracy: 0.9751\n",
            "Epoch 7/25\n",
            "938/938 [==============================] - 29s 30ms/step - loss: 0.0827 - accuracy: 0.9750\n",
            "Epoch 8/25\n",
            "938/938 [==============================] - 29s 30ms/step - loss: 0.0806 - accuracy: 0.9759\n",
            "Epoch 9/25\n",
            "938/938 [==============================] - 29s 31ms/step - loss: 0.0833 - accuracy: 0.9755\n",
            "Epoch 10/25\n",
            "938/938 [==============================] - 29s 31ms/step - loss: 0.0840 - accuracy: 0.9744\n",
            "Epoch 11/25\n",
            "938/938 [==============================] - 29s 30ms/step - loss: 0.0833 - accuracy: 0.9752\n",
            "Epoch 12/25\n",
            "938/938 [==============================] - 29s 30ms/step - loss: 0.0787 - accuracy: 0.9763\n",
            "Epoch 13/25\n",
            "938/938 [==============================] - 29s 31ms/step - loss: 0.0876 - accuracy: 0.9739\n",
            "Epoch 14/25\n",
            "938/938 [==============================] - 29s 30ms/step - loss: 0.0826 - accuracy: 0.9758\n",
            "Epoch 15/25\n",
            "938/938 [==============================] - 29s 30ms/step - loss: 0.0839 - accuracy: 0.9750\n",
            "Epoch 16/25\n",
            "938/938 [==============================] - 29s 31ms/step - loss: 0.0788 - accuracy: 0.9769\n",
            "Epoch 17/25\n",
            "938/938 [==============================] - 29s 30ms/step - loss: 0.0805 - accuracy: 0.9759\n",
            "Epoch 18/25\n",
            "938/938 [==============================] - 28s 30ms/step - loss: 0.0771 - accuracy: 0.9769\n",
            "Epoch 19/25\n",
            "938/938 [==============================] - 28s 30ms/step - loss: 0.0884 - accuracy: 0.9745\n",
            "Epoch 20/25\n",
            "938/938 [==============================] - 28s 30ms/step - loss: 0.0756 - accuracy: 0.9779\n",
            "Epoch 21/25\n",
            "938/938 [==============================] - 28s 30ms/step - loss: 0.0815 - accuracy: 0.9760\n",
            "Epoch 22/25\n",
            "938/938 [==============================] - 29s 31ms/step - loss: 0.0732 - accuracy: 0.9783\n",
            "Epoch 23/25\n",
            "938/938 [==============================] - 29s 30ms/step - loss: 0.0773 - accuracy: 0.9777\n",
            "Epoch 24/25\n",
            "938/938 [==============================] - 29s 30ms/step - loss: 0.0844 - accuracy: 0.9756\n",
            "Epoch 25/25\n",
            "938/938 [==============================] - 29s 30ms/step - loss: 0.0723 - accuracy: 0.9796\n",
            "313/313 [==============================] - 2s 7ms/step - loss: 0.0868 - accuracy: 0.9751\n",
            "\n",
            "Epoch 1/30\n",
            "1875/1875 [==============================] - 32s 17ms/step - loss: 0.5793 - accuracy: 0.8070\n",
            "Epoch 2/30\n",
            "1875/1875 [==============================] - 31s 16ms/step - loss: 2.3137 - accuracy: 0.1063\n",
            "Epoch 3/30\n",
            "1875/1875 [==============================] - 31s 16ms/step - loss: 2.3026 - accuracy: 0.1083\n",
            "Epoch 4/30\n",
            "1875/1875 [==============================] - 31s 16ms/step - loss: 2.3027 - accuracy: 0.1103\n",
            "Epoch 5/30\n",
            "1875/1875 [==============================] - 31s 16ms/step - loss: 2.3025 - accuracy: 0.1098\n",
            "Epoch 6/30\n",
            "1875/1875 [==============================] - 31s 16ms/step - loss: 2.3025 - accuracy: 0.1101\n",
            "Epoch 7/30\n",
            "1875/1875 [==============================] - 31s 16ms/step - loss: 2.3027 - accuracy: 0.1093\n",
            "Epoch 8/30\n",
            "1875/1875 [==============================] - 31s 16ms/step - loss: 2.3025 - accuracy: 0.1089\n",
            "Epoch 9/30\n",
            "1875/1875 [==============================] - 31s 16ms/step - loss: 2.3025 - accuracy: 0.1099\n",
            "Epoch 10/30\n",
            "1875/1875 [==============================] - 31s 16ms/step - loss: 2.3026 - accuracy: 0.1103\n",
            "Epoch 11/30\n",
            "1875/1875 [==============================] - 31s 16ms/step - loss: 2.3027 - accuracy: 0.1103\n",
            "Epoch 12/30\n",
            "1875/1875 [==============================] - 31s 16ms/step - loss: 2.3025 - accuracy: 0.1090\n",
            "Epoch 13/30\n",
            "1875/1875 [==============================] - 31s 16ms/step - loss: 2.3024 - accuracy: 0.1107\n",
            "Epoch 14/30\n",
            "1875/1875 [==============================] - 31s 16ms/step - loss: 2.3024 - accuracy: 0.1094\n",
            "Epoch 15/30\n",
            "1875/1875 [==============================] - 31s 16ms/step - loss: 2.3027 - accuracy: 0.1084\n",
            "Epoch 16/30\n",
            "1875/1875 [==============================] - 31s 16ms/step - loss: 2.3026 - accuracy: 0.1094\n",
            "Epoch 17/30\n",
            "1875/1875 [==============================] - 31s 16ms/step - loss: 2.3026 - accuracy: 0.1086\n",
            "Epoch 18/30\n",
            "1875/1875 [==============================] - 31s 16ms/step - loss: 2.3027 - accuracy: 0.1092\n",
            "Epoch 19/30\n",
            "1875/1875 [==============================] - 31s 16ms/step - loss: 2.3026 - accuracy: 0.1096\n",
            "Epoch 20/30\n",
            "1875/1875 [==============================] - 31s 16ms/step - loss: 2.3024 - accuracy: 0.1096\n",
            "Epoch 21/30\n",
            "1875/1875 [==============================] - 30s 16ms/step - loss: 2.3027 - accuracy: 0.1106\n",
            "Epoch 22/30\n",
            "1875/1875 [==============================] - 31s 16ms/step - loss: 2.3025 - accuracy: 0.1096\n",
            "Epoch 23/30\n",
            "1875/1875 [==============================] - 31s 16ms/step - loss: 2.3025 - accuracy: 0.1094\n",
            "Epoch 24/30\n",
            "1875/1875 [==============================] - 31s 16ms/step - loss: 2.3025 - accuracy: 0.1098\n",
            "Epoch 25/30\n",
            "1875/1875 [==============================] - 30s 16ms/step - loss: 2.3025 - accuracy: 0.1068\n",
            "Epoch 26/30\n",
            "1875/1875 [==============================] - 30s 16ms/step - loss: 2.3026 - accuracy: 0.1101\n",
            "Epoch 27/30\n",
            "1875/1875 [==============================] - 31s 16ms/step - loss: 2.3026 - accuracy: 0.1083\n",
            "Epoch 28/30\n",
            "1875/1875 [==============================] - 31s 16ms/step - loss: 2.3026 - accuracy: 0.1081\n",
            "Epoch 29/30\n",
            "1875/1875 [==============================] - 30s 16ms/step - loss: 2.3026 - accuracy: 0.1095\n",
            "Epoch 30/30\n",
            "1875/1875 [==============================] - 31s 16ms/step - loss: 2.3027 - accuracy: 0.1091\n",
            "313/313 [==============================] - 2s 7ms/step - loss: 2.3021 - accuracy: 0.1135\n",
            "\n",
            "Below are the details of the inverted CNN network hyperparameters that gave the best accuracy of 99.30%\n",
            "Optimizer: SGD\n",
            "Learning rate: 0.001\n",
            "Batch size: 64\n",
            "Epochs: 20\n"
          ]
        }
      ],
      "source": [
        "eval_with_hyperparams(model_inverted, network_name=\"inverted CNN\")"
      ]
    },
    {
      "cell_type": "markdown",
      "source": [
        "During the course of this experiment, I tried tuning the model using varying hyperparameters. The hyperparameters I tried include:\n",
        "1. epochs = 15, 20, 25, 30\n",
        "2. batch sizes = 128, 64, 64, 32\n",
        "3. optim = Adam with lr of 0.001, SGD with lr of 0.001, Adam with lr of 0.005, and finally Adam with lr of 0.01\n",
        "\n",
        "The performance of this model is also similar to the previous one given that they had similar hyperparameters and number of neurons.\n",
        "\n",
        "Of these hyperparamters that were tried, the following combinations gave the bet performance with an accuracy of 99.30%\n",
        "Optimizer: SGD\n",
        "Learning rate: 0.001\n",
        "Batch size: 64\n",
        "Epochs: 20\n",
        "\n",
        "Just like in the previous model, we note that the performance was due to the combinations of the different hyperparameters. Here we used a batch size of 64 and learning rate of 0.001 which gave a way better performance than using a combination of 0.01 learning rate, epoch of 30, and batch size of 32. The latter combination prevented the training from converging before the training ended since the learning rate which controls the update made to the weights is large and hence perhaps bounced around global minima and didn't converge before the training ended, hence producing a poor performance."
      ],
      "metadata": {
        "id": "WZMXQbGmITFD"
      }
    },
    {
      "cell_type": "markdown",
      "metadata": {
        "id": "z3V61PSUZWBl"
      },
      "source": [
        "---\n",
        "\n",
        "**1.3** \n",
        "\n",
        "A CNN network with hour-glass shaped number of filters\n",
        "\n",
        "---\n",
        "\n"
      ]
    },
    {
      "cell_type": "code",
      "execution_count": 6,
      "metadata": {
        "id": "a7gL-k4sZeTH",
        "colab": {
          "base_uri": "https://localhost:8080/"
        },
        "outputId": "b4f1dd69-a8be-46fb-b728-2944e87a3c6f"
      },
      "outputs": [
        {
          "output_type": "stream",
          "name": "stdout",
          "text": [
            "Model: \"sequential\"\n",
            "_________________________________________________________________\n",
            " Layer (type)                Output Shape              Param #   \n",
            "=================================================================\n",
            " conv2d (Conv2D)             (None, 28, 28, 8)         80        \n",
            "                                                                 \n",
            " conv2d_1 (Conv2D)           (None, 26, 26, 16)        1168      \n",
            "                                                                 \n",
            " conv2d_2 (Conv2D)           (None, 26, 26, 32)        4640      \n",
            "                                                                 \n",
            " conv2d_3 (Conv2D)           (None, 24, 24, 48)        13872     \n",
            "                                                                 \n",
            " conv2d_4 (Conv2D)           (None, 24, 24, 64)        27712     \n",
            "                                                                 \n",
            " conv2d_5 (Conv2D)           (None, 22, 22, 80)        46160     \n",
            "                                                                 \n",
            " conv2d_6 (Conv2D)           (None, 20, 20, 48)        34608     \n",
            "                                                                 \n",
            " conv2d_7 (Conv2D)           (None, 18, 18, 32)        13856     \n",
            "                                                                 \n",
            " conv2d_8 (Conv2D)           (None, 16, 16, 16)        4624      \n",
            "                                                                 \n",
            " max_pooling2d (MaxPooling2D  (None, 8, 8, 16)         0         \n",
            " )                                                               \n",
            "                                                                 \n",
            " conv2d_9 (Conv2D)           (None, 6, 6, 8)           1160      \n",
            "                                                                 \n",
            " max_pooling2d_1 (MaxPooling  (None, 3, 3, 8)          0         \n",
            " 2D)                                                             \n",
            "                                                                 \n",
            " flatten (Flatten)           (None, 72)                0         \n",
            "                                                                 \n",
            " dense (Dense)               (None, 8)                 584       \n",
            "                                                                 \n",
            " dense_1 (Dense)             (None, 10)                90        \n",
            "                                                                 \n",
            "=================================================================\n",
            "Total params: 148,554\n",
            "Trainable params: 148,554\n",
            "Non-trainable params: 0\n",
            "_________________________________________________________________\n"
          ]
        }
      ],
      "source": [
        "model_hour_glass = get_network(filters=[8, 16, 32, 48, 64, 80, 48, 32, 16, 8], dense_dim=8)\n",
        "model_hour_glass.summary()"
      ]
    },
    {
      "cell_type": "code",
      "execution_count": 7,
      "metadata": {
        "id": "dxgHokTFaV36",
        "colab": {
          "base_uri": "https://localhost:8080/"
        },
        "outputId": "23baf0c5-012b-43ec-f080-fb85e60435d7"
      },
      "outputs": [
        {
          "output_type": "stream",
          "name": "stdout",
          "text": [
            "Epoch 1/15\n",
            "469/469 [==============================] - 22s 26ms/step - loss: 0.5347 - accuracy: 0.8278\n",
            "Epoch 2/15\n",
            "469/469 [==============================] - 12s 26ms/step - loss: 0.1634 - accuracy: 0.9522\n",
            "Epoch 3/15\n",
            "469/469 [==============================] - 13s 27ms/step - loss: 0.1129 - accuracy: 0.9665\n",
            "Epoch 4/15\n",
            "469/469 [==============================] - 12s 26ms/step - loss: 0.0902 - accuracy: 0.9733\n",
            "Epoch 5/15\n",
            "469/469 [==============================] - 12s 26ms/step - loss: 0.0765 - accuracy: 0.9774\n",
            "Epoch 6/15\n",
            "469/469 [==============================] - 12s 26ms/step - loss: 0.0662 - accuracy: 0.9800\n",
            "Epoch 7/15\n",
            "469/469 [==============================] - 12s 26ms/step - loss: 0.0563 - accuracy: 0.9826\n",
            "Epoch 8/15\n",
            "469/469 [==============================] - 12s 26ms/step - loss: 0.0538 - accuracy: 0.9840\n",
            "Epoch 9/15\n",
            "469/469 [==============================] - 12s 26ms/step - loss: 0.0476 - accuracy: 0.9854\n",
            "Epoch 10/15\n",
            "469/469 [==============================] - 12s 26ms/step - loss: 0.0441 - accuracy: 0.9866\n",
            "Epoch 11/15\n",
            "469/469 [==============================] - 12s 26ms/step - loss: 0.0383 - accuracy: 0.9885\n",
            "Epoch 12/15\n",
            "469/469 [==============================] - 12s 26ms/step - loss: 0.0340 - accuracy: 0.9895\n",
            "Epoch 13/15\n",
            "469/469 [==============================] - 12s 26ms/step - loss: 0.0339 - accuracy: 0.9890\n",
            "Epoch 14/15\n",
            "469/469 [==============================] - 12s 25ms/step - loss: 0.0297 - accuracy: 0.9905\n",
            "Epoch 15/15\n",
            "469/469 [==============================] - 12s 25ms/step - loss: 0.0289 - accuracy: 0.9909\n",
            "313/313 [==============================] - 2s 5ms/step - loss: 0.0406 - accuracy: 0.9873\n",
            "\n",
            "Epoch 1/20\n",
            "938/938 [==============================] - 15s 14ms/step - loss: 0.0184 - accuracy: 0.9942\n",
            "Epoch 2/20\n",
            "938/938 [==============================] - 13s 14ms/step - loss: 0.0151 - accuracy: 0.9955\n",
            "Epoch 3/20\n",
            "938/938 [==============================] - 13s 14ms/step - loss: 0.0140 - accuracy: 0.9959\n",
            "Epoch 4/20\n",
            "938/938 [==============================] - 13s 14ms/step - loss: 0.0132 - accuracy: 0.9962\n",
            "Epoch 5/20\n",
            "938/938 [==============================] - 13s 14ms/step - loss: 0.0125 - accuracy: 0.9962\n",
            "Epoch 6/20\n",
            "938/938 [==============================] - 13s 14ms/step - loss: 0.0120 - accuracy: 0.9965\n",
            "Epoch 7/20\n",
            "938/938 [==============================] - 13s 14ms/step - loss: 0.0116 - accuracy: 0.9965\n",
            "Epoch 8/20\n",
            "938/938 [==============================] - 13s 14ms/step - loss: 0.0112 - accuracy: 0.9967\n",
            "Epoch 9/20\n",
            "938/938 [==============================] - 13s 14ms/step - loss: 0.0108 - accuracy: 0.9968\n",
            "Epoch 10/20\n",
            "938/938 [==============================] - 13s 14ms/step - loss: 0.0105 - accuracy: 0.9969\n",
            "Epoch 11/20\n",
            "938/938 [==============================] - 13s 14ms/step - loss: 0.0103 - accuracy: 0.9969\n",
            "Epoch 12/20\n",
            "938/938 [==============================] - 13s 14ms/step - loss: 0.0100 - accuracy: 0.9971\n",
            "Epoch 13/20\n",
            "938/938 [==============================] - 13s 14ms/step - loss: 0.0098 - accuracy: 0.9972\n",
            "Epoch 14/20\n",
            "938/938 [==============================] - 13s 14ms/step - loss: 0.0096 - accuracy: 0.9970\n",
            "Epoch 15/20\n",
            "938/938 [==============================] - 13s 14ms/step - loss: 0.0094 - accuracy: 0.9973\n",
            "Epoch 16/20\n",
            "938/938 [==============================] - 13s 14ms/step - loss: 0.0092 - accuracy: 0.9973\n",
            "Epoch 17/20\n",
            "938/938 [==============================] - 13s 14ms/step - loss: 0.0090 - accuracy: 0.9973\n",
            "Epoch 18/20\n",
            "938/938 [==============================] - 13s 14ms/step - loss: 0.0088 - accuracy: 0.9974\n",
            "Epoch 19/20\n",
            "938/938 [==============================] - 14s 14ms/step - loss: 0.0087 - accuracy: 0.9976\n",
            "Epoch 20/20\n",
            "938/938 [==============================] - 13s 14ms/step - loss: 0.0085 - accuracy: 0.9976\n",
            "313/313 [==============================] - 2s 5ms/step - loss: 0.0252 - accuracy: 0.9927\n",
            "\n",
            "Epoch 1/25\n",
            "938/938 [==============================] - 14s 14ms/step - loss: 0.1091 - accuracy: 0.9677\n",
            "Epoch 2/25\n",
            "938/938 [==============================] - 13s 14ms/step - loss: 0.0913 - accuracy: 0.9732\n",
            "Epoch 3/25\n",
            "938/938 [==============================] - 13s 14ms/step - loss: 0.0886 - accuracy: 0.9728\n",
            "Epoch 4/25\n",
            "938/938 [==============================] - 13s 14ms/step - loss: 0.0861 - accuracy: 0.9743\n",
            "Epoch 5/25\n",
            "938/938 [==============================] - 13s 14ms/step - loss: 0.0790 - accuracy: 0.9769\n",
            "Epoch 6/25\n",
            "938/938 [==============================] - 13s 14ms/step - loss: 0.0820 - accuracy: 0.9750\n",
            "Epoch 7/25\n",
            "938/938 [==============================] - 13s 14ms/step - loss: 0.0863 - accuracy: 0.9745\n",
            "Epoch 8/25\n",
            "938/938 [==============================] - 13s 14ms/step - loss: 0.0789 - accuracy: 0.9767\n",
            "Epoch 9/25\n",
            "938/938 [==============================] - 13s 14ms/step - loss: 0.0877 - accuracy: 0.9740\n",
            "Epoch 10/25\n",
            "938/938 [==============================] - 13s 14ms/step - loss: 0.0768 - accuracy: 0.9771\n",
            "Epoch 11/25\n",
            "938/938 [==============================] - 13s 14ms/step - loss: 0.0855 - accuracy: 0.9748\n",
            "Epoch 12/25\n",
            "938/938 [==============================] - 13s 14ms/step - loss: 0.0961 - accuracy: 0.9715\n",
            "Epoch 13/25\n",
            "938/938 [==============================] - 13s 14ms/step - loss: 0.0893 - accuracy: 0.9736\n",
            "Epoch 14/25\n",
            "938/938 [==============================] - 13s 14ms/step - loss: 0.0832 - accuracy: 0.9758\n",
            "Epoch 15/25\n",
            "938/938 [==============================] - 13s 14ms/step - loss: 0.0816 - accuracy: 0.9758\n",
            "Epoch 16/25\n",
            "938/938 [==============================] - 13s 14ms/step - loss: 0.1173 - accuracy: 0.9660\n",
            "Epoch 17/25\n",
            "938/938 [==============================] - 13s 14ms/step - loss: 0.0821 - accuracy: 0.9754\n",
            "Epoch 18/25\n",
            "938/938 [==============================] - 13s 14ms/step - loss: 0.0831 - accuracy: 0.9750\n",
            "Epoch 19/25\n",
            "938/938 [==============================] - 13s 14ms/step - loss: 0.0802 - accuracy: 0.9767\n",
            "Epoch 20/25\n",
            "938/938 [==============================] - 13s 14ms/step - loss: 0.0842 - accuracy: 0.9755\n",
            "Epoch 21/25\n",
            "938/938 [==============================] - 13s 14ms/step - loss: 0.0764 - accuracy: 0.9773\n",
            "Epoch 22/25\n",
            "938/938 [==============================] - 13s 14ms/step - loss: 0.0788 - accuracy: 0.9763\n",
            "Epoch 23/25\n",
            "938/938 [==============================] - 13s 14ms/step - loss: 0.0965 - accuracy: 0.9717\n",
            "Epoch 24/25\n",
            "938/938 [==============================] - 13s 14ms/step - loss: 0.0953 - accuracy: 0.9718\n",
            "Epoch 25/25\n",
            "938/938 [==============================] - 13s 14ms/step - loss: 0.0816 - accuracy: 0.9757\n",
            "313/313 [==============================] - 2s 4ms/step - loss: 0.0743 - accuracy: 0.9779\n",
            "\n",
            "Epoch 1/30\n",
            "1875/1875 [==============================] - 16s 8ms/step - loss: 0.7270 - accuracy: 0.7554\n",
            "Epoch 2/30\n",
            "1875/1875 [==============================] - 15s 8ms/step - loss: 0.7116 - accuracy: 0.7775\n",
            "Epoch 3/30\n",
            "1875/1875 [==============================] - 15s 8ms/step - loss: 0.5007 - accuracy: 0.8425\n",
            "Epoch 4/30\n",
            "1875/1875 [==============================] - 15s 8ms/step - loss: 0.4984 - accuracy: 0.8458\n",
            "Epoch 5/30\n",
            "1875/1875 [==============================] - 15s 8ms/step - loss: 0.8156 - accuracy: 0.7347\n",
            "Epoch 6/30\n",
            "1875/1875 [==============================] - 15s 8ms/step - loss: 2.3073 - accuracy: 0.1060\n",
            "Epoch 7/30\n",
            "1875/1875 [==============================] - 15s 8ms/step - loss: 2.3113 - accuracy: 0.1037\n",
            "Epoch 8/30\n",
            "1875/1875 [==============================] - 16s 8ms/step - loss: 2.3097 - accuracy: 0.1041\n",
            "Epoch 9/30\n",
            "1875/1875 [==============================] - 15s 8ms/step - loss: 2.3091 - accuracy: 0.1025\n",
            "Epoch 10/30\n",
            "1875/1875 [==============================] - 15s 8ms/step - loss: 2.3083 - accuracy: 0.1047\n",
            "Epoch 11/30\n",
            "1875/1875 [==============================] - 15s 8ms/step - loss: 2.3069 - accuracy: 0.1065\n",
            "Epoch 12/30\n",
            "1875/1875 [==============================] - 16s 8ms/step - loss: 2.3065 - accuracy: 0.1055\n",
            "Epoch 13/30\n",
            "1875/1875 [==============================] - 16s 8ms/step - loss: 2.3061 - accuracy: 0.1059\n",
            "Epoch 14/30\n",
            "1875/1875 [==============================] - 15s 8ms/step - loss: 2.3052 - accuracy: 0.1069\n",
            "Epoch 15/30\n",
            "1875/1875 [==============================] - 15s 8ms/step - loss: 2.3051 - accuracy: 0.1045\n",
            "Epoch 16/30\n",
            "1875/1875 [==============================] - 15s 8ms/step - loss: 2.3051 - accuracy: 0.1079\n",
            "Epoch 17/30\n",
            "1875/1875 [==============================] - 15s 8ms/step - loss: 2.3049 - accuracy: 0.1064\n",
            "Epoch 18/30\n",
            "1875/1875 [==============================] - 15s 8ms/step - loss: 2.3046 - accuracy: 0.1075\n",
            "Epoch 19/30\n",
            "1875/1875 [==============================] - 15s 8ms/step - loss: 2.3046 - accuracy: 0.1067\n",
            "Epoch 20/30\n",
            "1875/1875 [==============================] - 15s 8ms/step - loss: 2.3040 - accuracy: 0.1079\n",
            "Epoch 21/30\n",
            "1875/1875 [==============================] - 15s 8ms/step - loss: 2.3045 - accuracy: 0.1063\n",
            "Epoch 22/30\n",
            "1875/1875 [==============================] - 15s 8ms/step - loss: 2.3043 - accuracy: 0.1072\n",
            "Epoch 23/30\n",
            "1875/1875 [==============================] - 15s 8ms/step - loss: 2.3043 - accuracy: 0.1069\n",
            "Epoch 24/30\n",
            "1875/1875 [==============================] - 15s 8ms/step - loss: 2.3040 - accuracy: 0.1060\n",
            "Epoch 25/30\n",
            "1875/1875 [==============================] - 16s 8ms/step - loss: 2.3039 - accuracy: 0.1074\n",
            "Epoch 26/30\n",
            "1875/1875 [==============================] - 16s 8ms/step - loss: 2.3038 - accuracy: 0.1064\n",
            "Epoch 27/30\n",
            "1875/1875 [==============================] - 16s 8ms/step - loss: 2.3040 - accuracy: 0.1080\n",
            "Epoch 28/30\n",
            "1875/1875 [==============================] - 16s 8ms/step - loss: 2.3036 - accuracy: 0.1077\n",
            "Epoch 29/30\n",
            "1875/1875 [==============================] - 15s 8ms/step - loss: 2.3037 - accuracy: 0.1071\n",
            "Epoch 30/30\n",
            "1875/1875 [==============================] - 15s 8ms/step - loss: 2.3037 - accuracy: 0.1068\n",
            "313/313 [==============================] - 2s 4ms/step - loss: 2.3039 - accuracy: 0.0980\n",
            "\n",
            "Below are the details of the hour-glass shape CNN network hyperparameters that gave the best accuracy of 99.27%\n",
            "Optimizer: SGD\n",
            "Learning rate: 0.001\n",
            "Batch size: 64\n",
            "Epochs: 20\n"
          ]
        }
      ],
      "source": [
        "eval_with_hyperparams(model_hour_glass, network_name=\"hour-glass shape CNN\")"
      ]
    },
    {
      "cell_type": "markdown",
      "metadata": {
        "id": "hvTdR2f05wV1"
      },
      "source": [
        "Just like in the previous variants of the model above, I tried tuning the model using varying hyperparameters. The hyperparameters I tried include:\n",
        "1. epochs = 15, 20, 25, 30\n",
        "2. batch sizes = 128, 64, 64, 32\n",
        "3. optim = Adam with lr of 0.001, SGD with lr of 0.001, Adam with lr of 0.005, and finally Adam with lr of 0.01\n",
        "\n",
        "The hour-glass shaped CNN also gave some interesting results. We can see that the following hyperparameters gave the best performance with an accuracy of 99.27%.\n",
        "\n",
        "Optimizer: SGD\n",
        "Learning rate: 0.001\n",
        "Batch size: 64\n",
        "Epochs: 20\n",
        "\n",
        "It can be noted that this performance is due to the combination of the hyperparameters especially the learning rate and the batch size. I also observe a consistent poor performance using the last hyperparameter combinations of Adam optimizer, 0.01 learning rate, 32 batch size, and 30 epochs. It can be noted that this could be due to the learning rate and the batch size. "
      ]
    },
    {
      "cell_type": "markdown",
      "metadata": {
        "id": "O8a3u7Tne40T"
      },
      "source": [
        "# Question 2\n",
        "\n",
        "---\n",
        "\n"
      ]
    },
    {
      "cell_type": "code",
      "execution_count": 11,
      "metadata": {
        "colab": {
          "base_uri": "https://localhost:8080/"
        },
        "id": "Xs9CVCoqgVMK",
        "outputId": "d74f234a-b264-4841-d2a0-9bbfff270d85"
      },
      "outputs": [
        {
          "output_type": "stream",
          "name": "stdout",
          "text": [
            "Downloading data from https://www.cs.toronto.edu/~kriz/cifar-10-python.tar.gz\n",
            "170498071/170498071 [==============================] - 3s 0us/step\n",
            "x_train shape:\n",
            " (50000, 32, 32, 3)\n",
            "50000 train samples\n",
            "10000 test samples\n",
            "\n"
          ]
        }
      ],
      "source": [
        "(X_train, y_train), (X_test, y_test) = keras.datasets.cifar10.load_data()\n",
        "\n",
        "X_train, y_train, X_test, y_test = load_and_prepare_data(X_train, y_train, X_test, y_test, is_mnist=False)"
      ]
    },
    {
      "cell_type": "code",
      "execution_count": 12,
      "metadata": {
        "id": "8r4RaI-6e8jQ"
      },
      "outputs": [],
      "source": [
        "def get_lenet():\n",
        "    model = Sequential([\n",
        "        layers.Conv2D(6, kernel_size=(5, 5), strides=(1, 1), activation=\"relu\", input_shape=(32, 32, 3)),\n",
        "        layers.MaxPool2D(pool_size=(2, 2), strides=(2, 2)),\n",
        "\n",
        "        layers.Conv2D(16, kernel_size=(5, 5), strides=(1, 1), activation=\"relu\"),\n",
        "        layers.MaxPool2D(pool_size=(2, 2), strides=(2, 2)),\n",
        "\n",
        "        layers.Conv2D(120, kernel_size=(5, 5), activation=\"relu\"),\n",
        "        \n",
        "        layers.Flatten(),\n",
        "        layers.Dense(84, activation=\"relu\"),\n",
        "        layers.Dense(10, activation=\"softmax\")\n",
        "    ])\n",
        "    return model"
      ]
    },
    {
      "cell_type": "code",
      "execution_count": null,
      "metadata": {
        "id": "aPgVwG9cgFbW"
      },
      "outputs": [],
      "source": [
        "lenet = get_lenet()\n",
        "lenet.summary()"
      ]
    },
    {
      "cell_type": "markdown",
      "metadata": {
        "id": "C5-1xn5FvKu0"
      },
      "source": [
        "\n",
        "\n",
        "---\n",
        "\n",
        "\n",
        "**2.1**\n",
        "\n",
        "---\n",
        "\n",
        "Training using multiple learning rates"
      ]
    },
    {
      "cell_type": "code",
      "execution_count": null,
      "metadata": {
        "id": "nZ18toSVo_-f"
      },
      "outputs": [],
      "source": [
        "def plot_for_multi_lr():\n",
        "\n",
        "  training_accuracy = {}\n",
        "  learning_rates = [0.001, 0.003, 0.005, 0.007, 0.009, 0.01, 0.03, 0.05]\n",
        "  for lr in learning_rates:\n",
        "    lenet = get_lenet()\n",
        "    lenet.compile(loss=\"categorical_crossentropy\", optimizer=Adam(learning_rate=lr), metrics=[\"accuracy\"])\n",
        "    history = lenet.fit(X_train, y_train, batch_size=64, epochs=25, verbose=0)\n",
        "\n",
        "    training_accuracy[lr] = history.history['accuracy'][0]\n",
        "\n",
        "    # summarize history for accuracy\n",
        "    plt.plot(history.history['accuracy'])\n",
        "    plt.title(f'Model training accuracies for {lr} learning rate')\n",
        "    plt.ylabel('Accuracy')\n",
        "    plt.xlabel('Epoch')\n",
        "    plt.show()\n",
        "\n",
        "  plt.plot(learning_rates, list(training_accuracy.values()), color ='red')\n",
        "  plt.xlabel(\"Learning rate\")\n",
        "  plt.ylabel(\"Accuracy\")\n",
        "  plt.title(f'Model training accuracies for multiple learning rates')\n",
        "  plt.show()\n",
        "\n",
        "  best_acc = max(training_accuracy.values())\n",
        "  lr = 0\n",
        "  for key, value in training_accuracy.items():\n",
        "    if value == best_acc:\n",
        "      lr = key\n",
        "      break\n",
        "      \n",
        "  print(f\"\\nFrom the plots, we can see that the learning rate of {lr} gave us the best performance of {(100*best_acc):.2f} %\")"
      ]
    },
    {
      "cell_type": "code",
      "execution_count": 16,
      "metadata": {
        "id": "Zvo-g_EHuoHE",
        "colab": {
          "base_uri": "https://localhost:8080/",
          "height": 1000
        },
        "outputId": "d4f646f2-f4fc-41f0-be9e-3ea45522ca51"
      },
      "outputs": [
        {
          "data": {
            "image/png": "[encoded data removed]",
            "text/plain": [
              "<Figure size 432x288 with 1 Axes>"
            ]
          },
          "metadata": {},
          "output_type": "display_data"
        },
        {
          "data": {
            "image/png": "[encoded data removed]",
            "text/plain": [
              "<Figure size 432x288 with 1 Axes>"
            ]
          },
          "metadata": {},
          "output_type": "display_data"
        },
        {
          "data": {
            "image/png": "[encoded data removed]",
            "text/plain": [
              "<Figure size 432x288 with 1 Axes>"
            ]
          },
          "metadata": {},
          "output_type": "display_data"
        },
        {
          "output_type": "display_data",
          "data": {
            "text/plain": [
              "<Figure size 432x288 with 1 Axes>"
            ],
            "image/png": "[encoded data removed]"
          },
          "metadata": {
            "needs_background": "light"
          }
        },
        {
          "output_type": "display_data",
          "data": {
            "text/plain": [
              "<Figure size 432x288 with 1 Axes>"
            ],
            "image/png": "[encoded data removed]"
          },
          "metadata": {
            "needs_background": "light"
          }
        },
        {
          "output_type": "display_data",
          "data": {
            "text/plain": [
              "<Figure size 432x288 with 1 Axes>"
            ],
            "image/png": "[encoded data removed]"
          },
          "metadata": {
            "needs_background": "light"
          }
        },
        {
          "output_type": "display_data",
          "data": {
            "text/plain": [
              "<Figure size 432x288 with 1 Axes>"
            ],
            "image/png": "[encoded data removed]"
          },
          "metadata": {
            "needs_background": "light"
          }
        },
        {
          "output_type": "display_data",
          "data": {
            "text/plain": [
              "<Figure size 432x288 with 1 Axes>"
            ],
            "image/png": "[encoded data removed]"
          },
          "metadata": {
            "needs_background": "light"
          }
        },
        {
          "output_type": "display_data",
          "data": {
            "text/plain": [
              "<Figure size 432x288 with 1 Axes>"
            ],
            "image/png": "[encoded data removed]"
          },
          "metadata": {
            "needs_background": "light"
          }
        },
        {
          "output_type": "stream",
          "name": "stdout",
          "text": [
            "\n",
            "From the plots, we can see that the learning rate of 0.001 gave us the best performance of 38.32 %\n"
          ]
        }
      ],
      "source": [
        "plot_for_multi_lr()"
      ]
    },
    {
      "cell_type": "markdown",
      "metadata": {
        "id": "mv5OF_wiYsrU"
      },
      "source": [
        "\n",
        "\n",
        "---\n",
        "\n",
        "As can be seen from the above plots, the model's performance on the training data was best with an accuracy of approx. 75%. However, at this same learning rate on the test data, we can see that the accuracy dropped to 38.32% although it still remained the learning rate with the best performance even on the test data. This large difference between the accuracy on the training and test data shows that the model might have gotten overfitted to the training data. Therefore, to optimize the model and find the right balance, more tuning of the hyperparameters needs to be done."
      ]
    },
    {
      "cell_type": "markdown",
      "metadata": {
        "id": "WN-UZjf6vgSx"
      },
      "source": [
        "\n",
        "\n",
        "---\n",
        "\n",
        "**2.2**\n",
        "\n",
        "---\n",
        "\n",
        "Training using multiple batch sizes"
      ]
    },
    {
      "cell_type": "code",
      "execution_count": null,
      "metadata": {
        "id": "8RD18TWqvoEU"
      },
      "outputs": [],
      "source": [
        "def plot_for_multi_batch_size():\n",
        "\n",
        "  training_accuracy = {}\n",
        "  batch_sizes = [16, 32, 64, 80, 128]\n",
        "  for batch_size in batch_sizes:\n",
        "    lenet = get_lenet()\n",
        "    lenet.compile(loss=\"categorical_crossentropy\", optimizer=Adam(learning_rate=0.01), metrics=[\"accuracy\"])\n",
        "    history = lenet.fit(X_train, y_train, batch_size=batch_size, epochs=25, verbose=0)\n",
        "\n",
        "    training_accuracy[batch_size] = history.history['accuracy'][0]\n",
        "\n",
        "    # summarize history for accuracy\n",
        "    plt.plot(history.history['accuracy'])\n",
        "    plt.title(f'Model training accuracies for {batch_size} batch size')\n",
        "    plt.ylabel('Accuracy')\n",
        "    plt.xlabel('Epoch')\n",
        "    plt.show()\n",
        "\n",
        "  plt.plot(batch_sizes, list(training_accuracy.values()), color ='red')\n",
        "  plt.xlabel(\"Batch size\")\n",
        "  plt.ylabel(\"Accuracy\")\n",
        "  plt.title(f'Model training accuracies for multiple batch sizes')\n",
        "  plt.show()\n",
        "\n",
        "  best_acc = max(training_accuracy.values())\n",
        "  batch_size = 0\n",
        "  for key, value in training_accuracy.items():\n",
        "    if value == best_acc:\n",
        "      batch_size = key\n",
        "      break\n",
        "\n",
        "  print(f\"\\nFrom the plots, we can see that the batch size of {batch_size} gave us the best performance of {(100*best_acc):.2f} %\")"
      ]
    },
    {
      "cell_type": "code",
      "execution_count": null,
      "metadata": {
        "colab": {
          "background_save": true,
          "base_uri": "https://localhost:8080/",
          "height": 1000
        },
        "id": "UsaTD6kWhdhd",
        "outputId": "9a44a1a4-d525-4bfb-a309-9c8d3d4cda5d"
      },
      "outputs": [
        {
          "data": {
            "image/png": "[encoded data removed]",
            "text/plain": [
              "<Figure size 432x288 with 1 Axes>"
            ]
          },
          "metadata": {},
          "output_type": "display_data"
        },
        {
          "data": {
            "image/png": "[encoded data removed]",
            "text/plain": [
              "<Figure size 432x288 with 1 Axes>"
            ]
          },
          "metadata": {},
          "output_type": "display_data"
        },
        {
          "data": {
            "image/png": "[encoded data removed]",
            "text/plain": [
              "<Figure size 432x288 with 1 Axes>"
            ]
          },
          "metadata": {},
          "output_type": "display_data"
        },
        {
          "data": {
            "image/png": "[encoded data removed]",
            "text/plain": [
              "<Figure size 432x288 with 1 Axes>"
            ]
          },
          "metadata": {},
          "output_type": "display_data"
        },
        {
          "data": {
            "image/png": "[encoded data removed]",
            "text/plain": [
              "<Figure size 432x288 with 1 Axes>"
            ]
          },
          "metadata": {},
          "output_type": "display_data"
        },
        {
          "data": {
            "image/png": "[encoded data removed]",
            "text/plain": [
              "<Figure size 432x288 with 1 Axes>"
            ]
          },
          "metadata": {},
          "output_type": "display_data"
        },
        {
          "name": "stdout",
          "output_type": "stream",
          "text": [
            "\n",
            "From the plots, we can see that the batch size of 128 gave us the best performance of 32.77 %\n"
          ]
        }
      ],
      "source": [
        "plot_for_multi_batch_size()"
      ]
    },
    {
      "cell_type": "markdown",
      "metadata": {
        "id": "iGp_MiHYXv6L"
      },
      "source": [
        "\n",
        "\n",
        "---\n",
        "\n",
        "As can be seen from the results above, the number of batch size is directly proportional to the performance of the model, however it fluctuated at certain batch sizes (64 and 80). The model trained on a batch size of 128 gave the best performance with an accuracy of 32.77%."
      ]
    },
    {
      "cell_type": "markdown",
      "metadata": {
        "id": "a3_7x5frA2WE"
      },
      "source": [
        "\n",
        "\n",
        "---\n",
        "\n",
        "\n",
        "**2.3**\n",
        "\n",
        "---\n",
        "\n"
      ]
    },
    {
      "cell_type": "code",
      "execution_count": 13,
      "metadata": {
        "id": "9kMcIdgKA8TY",
        "colab": {
          "base_uri": "https://localhost:8080/"
        },
        "outputId": "1ab37b22-a1c1-40fb-d312-9648f5141384"
      },
      "outputs": [
        {
          "output_type": "stream",
          "name": "stdout",
          "text": [
            "Epoch 1/15\n",
            "391/391 [==============================] - 3s 5ms/step - loss: 1.7390 - accuracy: 0.3609\n",
            "Epoch 2/15\n",
            "391/391 [==============================] - 2s 5ms/step - loss: 1.4614 - accuracy: 0.4696\n",
            "Epoch 3/15\n",
            "391/391 [==============================] - 2s 5ms/step - loss: 1.3499 - accuracy: 0.5137\n",
            "Epoch 4/15\n",
            "391/391 [==============================] - 2s 5ms/step - loss: 1.2683 - accuracy: 0.5450\n",
            "Epoch 5/15\n",
            "391/391 [==============================] - 2s 5ms/step - loss: 1.2084 - accuracy: 0.5687\n",
            "Epoch 6/15\n",
            "391/391 [==============================] - 2s 5ms/step - loss: 1.1599 - accuracy: 0.5857\n",
            "Epoch 7/15\n",
            "391/391 [==============================] - 2s 5ms/step - loss: 1.1156 - accuracy: 0.6039\n",
            "Epoch 8/15\n",
            "391/391 [==============================] - 2s 5ms/step - loss: 1.0855 - accuracy: 0.6150\n",
            "Epoch 9/15\n",
            "391/391 [==============================] - 2s 5ms/step - loss: 1.0524 - accuracy: 0.6279\n",
            "Epoch 10/15\n",
            "391/391 [==============================] - 2s 5ms/step - loss: 1.0261 - accuracy: 0.6378\n",
            "Epoch 11/15\n",
            "391/391 [==============================] - 2s 5ms/step - loss: 1.0010 - accuracy: 0.6465\n",
            "Epoch 12/15\n",
            "391/391 [==============================] - 2s 5ms/step - loss: 0.9769 - accuracy: 0.6543\n",
            "Epoch 13/15\n",
            "391/391 [==============================] - 2s 5ms/step - loss: 0.9589 - accuracy: 0.6621\n",
            "Epoch 14/15\n",
            "391/391 [==============================] - 2s 5ms/step - loss: 0.9353 - accuracy: 0.6698\n",
            "Epoch 15/15\n",
            "391/391 [==============================] - 2s 5ms/step - loss: 0.9170 - accuracy: 0.6755\n",
            "313/313 [==============================] - 1s 3ms/step - loss: 1.0661 - accuracy: 0.6296\n",
            "\n",
            "Epoch 1/20\n",
            "782/782 [==============================] - 4s 5ms/step - loss: 0.8653 - accuracy: 0.6957\n",
            "Epoch 2/20\n",
            "782/782 [==============================] - 4s 4ms/step - loss: 0.8488 - accuracy: 0.7011\n",
            "Epoch 3/20\n",
            "782/782 [==============================] - 4s 5ms/step - loss: 0.8411 - accuracy: 0.7052\n",
            "Epoch 4/20\n",
            "782/782 [==============================] - 4s 5ms/step - loss: 0.8370 - accuracy: 0.7071\n",
            "Epoch 5/20\n",
            "782/782 [==============================] - 4s 5ms/step - loss: 0.8360 - accuracy: 0.7060\n",
            "Epoch 6/20\n",
            "782/782 [==============================] - 4s 5ms/step - loss: 0.8306 - accuracy: 0.7067\n",
            "Epoch 7/20\n",
            "782/782 [==============================] - 4s 5ms/step - loss: 0.8309 - accuracy: 0.7085\n",
            "Epoch 8/20\n",
            "782/782 [==============================] - 4s 5ms/step - loss: 0.8263 - accuracy: 0.7096\n",
            "Epoch 9/20\n",
            "782/782 [==============================] - 4s 5ms/step - loss: 0.8251 - accuracy: 0.7101\n",
            "Epoch 10/20\n",
            "782/782 [==============================] - 4s 5ms/step - loss: 0.8255 - accuracy: 0.7107\n",
            "Epoch 11/20\n",
            "782/782 [==============================] - 4s 5ms/step - loss: 0.8223 - accuracy: 0.7102\n",
            "Epoch 12/20\n",
            "782/782 [==============================] - 4s 5ms/step - loss: 0.8212 - accuracy: 0.7117\n",
            "Epoch 13/20\n",
            "782/782 [==============================] - 4s 5ms/step - loss: 0.8215 - accuracy: 0.7114\n",
            "Epoch 14/20\n",
            "782/782 [==============================] - 4s 5ms/step - loss: 0.8209 - accuracy: 0.7128\n",
            "Epoch 15/20\n",
            "782/782 [==============================] - 4s 5ms/step - loss: 0.8172 - accuracy: 0.7134\n",
            "Epoch 16/20\n",
            "782/782 [==============================] - 4s 5ms/step - loss: 0.8157 - accuracy: 0.7142\n",
            "Epoch 17/20\n",
            "782/782 [==============================] - 4s 5ms/step - loss: 0.8146 - accuracy: 0.7150\n",
            "Epoch 18/20\n",
            "782/782 [==============================] - 4s 5ms/step - loss: 0.8145 - accuracy: 0.7145\n",
            "Epoch 19/20\n",
            "782/782 [==============================] - 4s 5ms/step - loss: 0.8135 - accuracy: 0.7165\n",
            "Epoch 20/20\n",
            "782/782 [==============================] - 4s 5ms/step - loss: 0.8118 - accuracy: 0.7146\n",
            "313/313 [==============================] - 1s 3ms/step - loss: 1.0632 - accuracy: 0.6368\n",
            "\n",
            "Epoch 1/25\n",
            "782/782 [==============================] - 4s 5ms/step - loss: 1.2896 - accuracy: 0.5501\n",
            "Epoch 2/25\n",
            "782/782 [==============================] - 4s 5ms/step - loss: 1.1916 - accuracy: 0.5781\n",
            "Epoch 3/25\n",
            "782/782 [==============================] - 4s 5ms/step - loss: 1.1407 - accuracy: 0.5985\n",
            "Epoch 4/25\n",
            "782/782 [==============================] - 4s 5ms/step - loss: 1.1139 - accuracy: 0.6063\n",
            "Epoch 5/25\n",
            "782/782 [==============================] - 4s 5ms/step - loss: 1.0874 - accuracy: 0.6198\n",
            "Epoch 6/25\n",
            "782/782 [==============================] - 4s 5ms/step - loss: 1.0459 - accuracy: 0.6342\n",
            "Epoch 7/25\n",
            "782/782 [==============================] - 4s 5ms/step - loss: 1.0434 - accuracy: 0.6340\n",
            "Epoch 8/25\n",
            "782/782 [==============================] - 4s 5ms/step - loss: 1.0203 - accuracy: 0.6428\n",
            "Epoch 9/25\n",
            "782/782 [==============================] - 4s 5ms/step - loss: 1.0016 - accuracy: 0.6499\n",
            "Epoch 10/25\n",
            "782/782 [==============================] - 4s 5ms/step - loss: 0.9775 - accuracy: 0.6598\n",
            "Epoch 11/25\n",
            "782/782 [==============================] - 4s 5ms/step - loss: 0.9665 - accuracy: 0.6637\n",
            "Epoch 12/25\n",
            "782/782 [==============================] - 4s 5ms/step - loss: 0.9492 - accuracy: 0.6674\n",
            "Epoch 13/25\n",
            "782/782 [==============================] - 4s 5ms/step - loss: 0.9408 - accuracy: 0.6709\n",
            "Epoch 14/25\n",
            "782/782 [==============================] - 4s 5ms/step - loss: 0.9216 - accuracy: 0.6765\n",
            "Epoch 15/25\n",
            "782/782 [==============================] - 4s 5ms/step - loss: 0.9121 - accuracy: 0.6832\n",
            "Epoch 16/25\n",
            "782/782 [==============================] - 4s 5ms/step - loss: 0.9045 - accuracy: 0.6858\n",
            "Epoch 17/25\n",
            "782/782 [==============================] - 4s 5ms/step - loss: 0.8838 - accuracy: 0.6926\n",
            "Epoch 18/25\n",
            "782/782 [==============================] - 4s 5ms/step - loss: 0.8718 - accuracy: 0.6972\n",
            "Epoch 19/25\n",
            "782/782 [==============================] - 4s 5ms/step - loss: 0.8635 - accuracy: 0.6996\n",
            "Epoch 20/25\n",
            "782/782 [==============================] - 4s 5ms/step - loss: 0.8571 - accuracy: 0.6993\n",
            "Epoch 21/25\n",
            "782/782 [==============================] - 4s 5ms/step - loss: 0.8586 - accuracy: 0.7013\n",
            "Epoch 22/25\n",
            "782/782 [==============================] - 4s 5ms/step - loss: 0.8379 - accuracy: 0.7094\n",
            "Epoch 23/25\n",
            "782/782 [==============================] - 4s 5ms/step - loss: 0.8449 - accuracy: 0.7063\n",
            "Epoch 24/25\n",
            "782/782 [==============================] - 4s 5ms/step - loss: 0.8299 - accuracy: 0.7118\n",
            "Epoch 25/25\n",
            "782/782 [==============================] - 4s 5ms/step - loss: 0.8373 - accuracy: 0.7115\n",
            "313/313 [==============================] - 1s 3ms/step - loss: 1.3214 - accuracy: 0.5955\n",
            "\n",
            "Epoch 1/30\n",
            "1563/1563 [==============================] - 8s 4ms/step - loss: 1.4014 - accuracy: 0.5292\n",
            "Epoch 2/30\n",
            "1563/1563 [==============================] - 7s 4ms/step - loss: 1.4558 - accuracy: 0.5131\n",
            "Epoch 3/30\n",
            "1563/1563 [==============================] - 7s 5ms/step - loss: 1.4148 - accuracy: 0.5266\n",
            "Epoch 4/30\n",
            "1563/1563 [==============================] - 7s 4ms/step - loss: 1.4232 - accuracy: 0.5201\n",
            "Epoch 5/30\n",
            "1563/1563 [==============================] - 7s 4ms/step - loss: 2.0518 - accuracy: 0.2250\n",
            "Epoch 6/30\n",
            "1563/1563 [==============================] - 7s 4ms/step - loss: 2.3040 - accuracy: 0.0999\n",
            "Epoch 7/30\n",
            "1563/1563 [==============================] - 7s 4ms/step - loss: 2.3039 - accuracy: 0.0994\n",
            "Epoch 8/30\n",
            "1563/1563 [==============================] - 7s 4ms/step - loss: 2.3040 - accuracy: 0.1001\n",
            "Epoch 9/30\n",
            "1563/1563 [==============================] - 7s 4ms/step - loss: 2.3038 - accuracy: 0.0999\n",
            "Epoch 10/30\n",
            "1563/1563 [==============================] - 7s 4ms/step - loss: 2.3039 - accuracy: 0.1004\n",
            "Epoch 11/30\n",
            "1563/1563 [==============================] - 7s 4ms/step - loss: 2.3039 - accuracy: 0.1000\n",
            "Epoch 12/30\n",
            "1563/1563 [==============================] - 7s 4ms/step - loss: 2.3040 - accuracy: 0.0999\n",
            "Epoch 13/30\n",
            "1563/1563 [==============================] - 7s 4ms/step - loss: 2.3042 - accuracy: 0.0986\n",
            "Epoch 14/30\n",
            "1563/1563 [==============================] - 7s 4ms/step - loss: 2.3041 - accuracy: 0.0984\n",
            "Epoch 15/30\n",
            "1563/1563 [==============================] - 7s 5ms/step - loss: 2.3040 - accuracy: 0.1005\n",
            "Epoch 16/30\n",
            "1563/1563 [==============================] - 7s 4ms/step - loss: 2.3038 - accuracy: 0.0988\n",
            "Epoch 17/30\n",
            "1563/1563 [==============================] - 7s 4ms/step - loss: 2.3041 - accuracy: 0.1013\n",
            "Epoch 18/30\n",
            "1563/1563 [==============================] - 7s 4ms/step - loss: 2.3041 - accuracy: 0.0984\n",
            "Epoch 19/30\n",
            "1563/1563 [==============================] - 7s 4ms/step - loss: 2.3040 - accuracy: 0.0979\n",
            "Epoch 20/30\n",
            "1563/1563 [==============================] - 7s 4ms/step - loss: 2.3038 - accuracy: 0.1013\n",
            "Epoch 21/30\n",
            "1563/1563 [==============================] - 7s 5ms/step - loss: 2.3042 - accuracy: 0.0973\n",
            "Epoch 22/30\n",
            "1563/1563 [==============================] - 7s 4ms/step - loss: 2.3041 - accuracy: 0.0981\n",
            "Epoch 23/30\n",
            "1563/1563 [==============================] - 7s 4ms/step - loss: 2.3041 - accuracy: 0.1002\n",
            "Epoch 24/30\n",
            "1563/1563 [==============================] - 7s 4ms/step - loss: 2.3042 - accuracy: 0.0966\n",
            "Epoch 25/30\n",
            "1563/1563 [==============================] - 7s 4ms/step - loss: 2.3038 - accuracy: 0.0980\n",
            "Epoch 26/30\n",
            "1563/1563 [==============================] - 7s 5ms/step - loss: 2.3039 - accuracy: 0.0991\n",
            "Epoch 27/30\n",
            "1563/1563 [==============================] - 7s 5ms/step - loss: 2.3039 - accuracy: 0.1005\n",
            "Epoch 28/30\n",
            "1563/1563 [==============================] - 7s 4ms/step - loss: 2.3040 - accuracy: 0.1011\n",
            "Epoch 29/30\n",
            "1563/1563 [==============================] - 7s 4ms/step - loss: 2.3039 - accuracy: 0.1008\n",
            "Epoch 30/30\n",
            "1563/1563 [==============================] - 7s 4ms/step - loss: 2.3040 - accuracy: 0.0980\n",
            "313/313 [==============================] - 1s 3ms/step - loss: 2.3038 - accuracy: 0.1000\n",
            "\n",
            "Below are the details of the lenet network hyperparameters that gave the best accuracy of 63.68%\n",
            "Optimizer: SGD\n",
            "Learning rate: 0.001\n",
            "Batch size: 64\n",
            "Epochs: 20\n"
          ]
        }
      ],
      "source": [
        "lenet = get_lenet()\n",
        "eval_with_hyperparams(lenet, network_name=\"lenet\")"
      ]
    },
    {
      "cell_type": "markdown",
      "metadata": {
        "id": "2RULQgPyWvxp"
      },
      "source": [
        "\n",
        "\n",
        "---\n",
        "\n",
        "\n",
        "Below are the details of the lenet hyperparameters that gave the best accuracy \n",
        "of 63.68% on the test data.\n",
        "\n",
        "*   Optimizer: SGD\n",
        "*   Learning rate: 0.001\n",
        "*   Batch size: 64\n",
        "*   Epochs: 20\n",
        "\n",
        "The following is a list of the combinations of hyperparameters with their accuracies on the test data:\n",
        "1. Adam optimizer, 0.001 learning rate, 128 batch size, and 15 epochs with an accuracy of 62.9%\n",
        "2. Adam optimizer, 0.005 learning rate, 64 batch size, and 25 epochs with an accuracy of 59.6%\n",
        "3. Adam optimizer, 0.01 learning rate, 32 batch size, and 30 epochs with an accuracy of 10%"
      ]
    },
    {
      "cell_type": "markdown",
      "metadata": {
        "id": "JLdXGxSqoGjw"
      },
      "source": [
        "\n",
        "\n",
        "---\n",
        "\n",
        "\n",
        "**2.4a**\n",
        "\n",
        "Implementing an equivalent feed forward network"
      ]
    },
    {
      "cell_type": "code",
      "execution_count": null,
      "metadata": {
        "id": "huu9HA_RheHC"
      },
      "outputs": [],
      "source": [
        "def get_feedforward_net():\n",
        "  model = Sequential([\n",
        "      layers.Input(shape=(32, 32, 3)),\n",
        "      layers.Flatten(),\n",
        "      layers.Dense(6, activation='relu'),\n",
        "      layers.Dense(16, activation='relu'),\n",
        "      layers.Dense(120, activation='relu'),\n",
        "\n",
        "      layers.Dense(84, activation=\"relu\"),\n",
        "      layers.Dense(10, activation=\"softmax\")\n",
        "  ])\n",
        "  return model"
      ]
    },
    {
      "cell_type": "code",
      "execution_count": null,
      "metadata": {
        "colab": {
          "base_uri": "https://localhost:8080/"
        },
        "id": "Js1z75pcOx8b",
        "outputId": "ec43a198-b503-4e5d-b7b1-7432b8c12e46"
      },
      "outputs": [
        {
          "name": "stdout",
          "output_type": "stream",
          "text": [
            "Model: \"sequential\"\n",
            "_________________________________________________________________\n",
            " Layer (type)                Output Shape              Param #   \n",
            "=================================================================\n",
            " flatten (Flatten)           (None, 3072)              0         \n",
            "                                                                 \n",
            " dense (Dense)               (None, 6)                 18438     \n",
            "                                                                 \n",
            " dense_1 (Dense)             (None, 16)                112       \n",
            "                                                                 \n",
            " dense_2 (Dense)             (None, 120)               2040      \n",
            "                                                                 \n",
            " dense_3 (Dense)             (None, 84)                10164     \n",
            "                                                                 \n",
            " dense_4 (Dense)             (None, 10)                850       \n",
            "                                                                 \n",
            "=================================================================\n",
            "Total params: 31,604\n",
            "Trainable params: 31,604\n",
            "Non-trainable params: 0\n",
            "_________________________________________________________________\n"
          ]
        }
      ],
      "source": [
        "ff_net = get_feedforward_net()\n",
        "ff_net.summary()"
      ]
    },
    {
      "cell_type": "code",
      "execution_count": null,
      "metadata": {
        "colab": {
          "base_uri": "https://localhost:8080/"
        },
        "id": "ZdRbKgOXOyy7",
        "outputId": "af6c151d-f3f0-4ebe-8912-a76ed7be9098"
      },
      "outputs": [
        {
          "name": "stdout",
          "output_type": "stream",
          "text": [
            "Epoch 1/25\n",
            "782/782 [==============================] - 5s 5ms/step - loss: 2.3149 - accuracy: 0.0987\n",
            "Epoch 2/25\n",
            "782/782 [==============================] - 4s 5ms/step - loss: 2.3036 - accuracy: 0.0976\n",
            "Epoch 3/25\n",
            "782/782 [==============================] - 4s 5ms/step - loss: 2.3035 - accuracy: 0.0992\n",
            "Epoch 4/25\n",
            "782/782 [==============================] - 4s 5ms/step - loss: 2.3037 - accuracy: 0.0992\n",
            "Epoch 5/25\n",
            "782/782 [==============================] - 4s 5ms/step - loss: 2.3037 - accuracy: 0.1011\n",
            "Epoch 6/25\n",
            "782/782 [==============================] - 4s 5ms/step - loss: 2.3036 - accuracy: 0.1006\n",
            "Epoch 7/25\n",
            "782/782 [==============================] - 4s 6ms/step - loss: 2.3037 - accuracy: 0.0985\n",
            "Epoch 8/25\n",
            "782/782 [==============================] - 4s 6ms/step - loss: 2.3036 - accuracy: 0.1012\n",
            "Epoch 9/25\n",
            "782/782 [==============================] - 5s 6ms/step - loss: 2.3036 - accuracy: 0.0984\n",
            "Epoch 10/25\n",
            "782/782 [==============================] - 5s 6ms/step - loss: 2.3036 - accuracy: 0.0998\n",
            "Epoch 11/25\n",
            "782/782 [==============================] - 4s 5ms/step - loss: 2.3034 - accuracy: 0.0992\n",
            "Epoch 12/25\n",
            "782/782 [==============================] - 4s 6ms/step - loss: 2.3036 - accuracy: 0.1008\n",
            "Epoch 13/25\n",
            "782/782 [==============================] - 5s 6ms/step - loss: 2.3036 - accuracy: 0.0987\n",
            "Epoch 14/25\n",
            "782/782 [==============================] - 4s 6ms/step - loss: 2.3036 - accuracy: 0.0985\n",
            "Epoch 15/25\n",
            "782/782 [==============================] - 4s 6ms/step - loss: 2.3036 - accuracy: 0.0998\n",
            "Epoch 16/25\n",
            "782/782 [==============================] - 5s 6ms/step - loss: 2.3036 - accuracy: 0.0981\n",
            "Epoch 17/25\n",
            "782/782 [==============================] - 5s 6ms/step - loss: 2.3036 - accuracy: 0.0985\n",
            "Epoch 18/25\n",
            "782/782 [==============================] - 5s 6ms/step - loss: 2.3037 - accuracy: 0.1003\n",
            "Epoch 19/25\n",
            "782/782 [==============================] - 4s 6ms/step - loss: 2.3037 - accuracy: 0.1022\n",
            "Epoch 20/25\n",
            "782/782 [==============================] - 5s 6ms/step - loss: 2.3034 - accuracy: 0.1000\n",
            "Epoch 21/25\n",
            "782/782 [==============================] - 5s 6ms/step - loss: 2.3035 - accuracy: 0.0999\n",
            "Epoch 22/25\n",
            "782/782 [==============================] - 5s 6ms/step - loss: 2.3036 - accuracy: 0.0998\n",
            "Epoch 23/25\n",
            "782/782 [==============================] - 4s 6ms/step - loss: 2.3038 - accuracy: 0.0984\n",
            "Epoch 24/25\n",
            "782/782 [==============================] - 4s 5ms/step - loss: 2.3036 - accuracy: 0.0990\n",
            "Epoch 25/25\n",
            "782/782 [==============================] - 4s 6ms/step - loss: 2.3036 - accuracy: 0.0989\n",
            "313/313 [==============================] - 1s 2ms/step - loss: 2.3051 - accuracy: 0.1000\n",
            "Feed Forward Net Test loss: 2.3051071166992188\n",
            "Feed Forward Net Test accuracy: 0.10000000149011612\n"
          ]
        }
      ],
      "source": [
        "ff_net.compile(loss=\"categorical_crossentropy\", optimizer=Adam(learning_rate=0.01), metrics=[\"accuracy\"])\n",
        "ff_net.fit(X_train, y_train, batch_size=64, epochs=25)\n",
        "\n",
        "# Evaluate\n",
        "loss, accuracy = ff_net.evaluate(X_test, y_test)\n",
        "print('\\nFeed Forward Net Test loss:', loss)\n",
        "print('Feed Forward Net Test accuracy:', accuracy)"
      ]
    },
    {
      "cell_type": "markdown",
      "metadata": {
        "id": "YVUEQugGPjv7"
      },
      "source": [
        "\n",
        "\n",
        "---\n",
        "\n",
        "Now we will compare it with a LeNet model having the same hyperparameters"
      ]
    },
    {
      "cell_type": "code",
      "execution_count": null,
      "metadata": {
        "id": "JBs5eTXnSilP"
      },
      "outputs": [],
      "source": [
        "lenet = get_lenet()\n",
        "lenet.summary()"
      ]
    },
    {
      "cell_type": "code",
      "execution_count": null,
      "metadata": {
        "colab": {
          "base_uri": "https://localhost:8080/"
        },
        "id": "6rjlukb2Prip",
        "outputId": "ff84a206-c878-4f71-bd00-ab695315f8b8"
      },
      "outputs": [
        {
          "name": "stdout",
          "output_type": "stream",
          "text": [
            "Epoch 1/25\n",
            "782/782 [==============================] - 56s 71ms/step - loss: 1.9123 - accuracy: 0.2930\n",
            "Epoch 2/25\n",
            "782/782 [==============================] - 56s 71ms/step - loss: 1.7316 - accuracy: 0.3681\n",
            "Epoch 3/25\n",
            "782/782 [==============================] - 47s 60ms/step - loss: 1.6782 - accuracy: 0.3897\n",
            "Epoch 4/25\n",
            "782/782 [==============================] - 51s 66ms/step - loss: 1.6661 - accuracy: 0.3965\n",
            "Epoch 5/25\n",
            "782/782 [==============================] - 52s 67ms/step - loss: 1.6300 - accuracy: 0.4121\n",
            "Epoch 6/25\n",
            "782/782 [==============================] - 54s 69ms/step - loss: 1.6199 - accuracy: 0.4143\n",
            "Epoch 7/25\n",
            "782/782 [==============================] - 49s 63ms/step - loss: 1.6121 - accuracy: 0.4189\n",
            "Epoch 8/25\n",
            "782/782 [==============================] - 49s 63ms/step - loss: 1.6022 - accuracy: 0.4227\n",
            "Epoch 9/25\n",
            "782/782 [==============================] - 47s 60ms/step - loss: 1.5969 - accuracy: 0.4261\n",
            "Epoch 10/25\n",
            "782/782 [==============================] - 48s 61ms/step - loss: 1.5876 - accuracy: 0.4287\n",
            "Epoch 11/25\n",
            "782/782 [==============================] - 54s 69ms/step - loss: 1.5855 - accuracy: 0.4303\n",
            "Epoch 12/25\n",
            "782/782 [==============================] - 54s 68ms/step - loss: 1.5717 - accuracy: 0.4374\n",
            "Epoch 13/25\n",
            "782/782 [==============================] - 48s 62ms/step - loss: 1.5739 - accuracy: 0.4383\n",
            "Epoch 14/25\n",
            "782/782 [==============================] - 53s 68ms/step - loss: 1.5692 - accuracy: 0.4402\n",
            "Epoch 15/25\n",
            "782/782 [==============================] - 46s 59ms/step - loss: 1.5627 - accuracy: 0.4422\n",
            "Epoch 16/25\n",
            "782/782 [==============================] - 46s 59ms/step - loss: 1.5563 - accuracy: 0.4452\n",
            "Epoch 17/25\n",
            "782/782 [==============================] - 46s 59ms/step - loss: 1.5559 - accuracy: 0.4473\n",
            "Epoch 18/25\n",
            "782/782 [==============================] - 47s 60ms/step - loss: 1.5593 - accuracy: 0.4440\n",
            "Epoch 19/25\n",
            "782/782 [==============================] - 46s 58ms/step - loss: 1.5596 - accuracy: 0.4451\n",
            "Epoch 20/25\n",
            "782/782 [==============================] - 45s 57ms/step - loss: 1.5600 - accuracy: 0.4429\n",
            "Epoch 21/25\n",
            "782/782 [==============================] - 45s 57ms/step - loss: 1.5540 - accuracy: 0.4510\n",
            "Epoch 22/25\n",
            "782/782 [==============================] - 45s 57ms/step - loss: 1.5543 - accuracy: 0.4490\n",
            "Epoch 23/25\n",
            "782/782 [==============================] - 46s 59ms/step - loss: 1.5458 - accuracy: 0.4501\n",
            "Epoch 24/25\n",
            "782/782 [==============================] - 45s 58ms/step - loss: 1.5634 - accuracy: 0.4475\n",
            "Epoch 25/25\n",
            "782/782 [==============================] - 44s 57ms/step - loss: 1.5433 - accuracy: 0.4507\n",
            "313/313 [==============================] - 5s 14ms/step - loss: 1.6944 - accuracy: 0.4137\n",
            "LeNet Test loss: 1.6944406032562256\n",
            "LeNet Test accuracy: 0.41370001435279846\n"
          ]
        }
      ],
      "source": [
        "lenet.compile(loss=\"categorical_crossentropy\", optimizer=Adam(learning_rate=0.01), metrics=[\"accuracy\"])\n",
        "lenet.fit(X_train, y_train, batch_size=64, epochs=25)\n",
        "\n",
        "# Evaluate\n",
        "score = lenet.evaluate(X_test, y_test)\n",
        "print('LeNet Test loss:', score[0])\n",
        "print('LeNet Test accuracy:', score[1])"
      ]
    },
    {
      "cell_type": "markdown",
      "metadata": {
        "id": "-u8bRpoWR_p2"
      },
      "source": [
        "---\n",
        "\n",
        "**2.4b**\n",
        "\n",
        "From the result gotten from the summary functions of the two networks, we can see that the feedforward network has 31,604 params and the LeNet model has 62,006 params which is clearly bigger. However, CNN architectures show way greater performance compared to regular feed forward networks (almost 4 times the performance of the feedforward network) and hence are better for image classification tasks.\n"
      ]
    },
    {
      "cell_type": "markdown",
      "metadata": {
        "id": "EYQ2AFFCUxkQ"
      },
      "source": [
        "\n",
        "---\n",
        "\n",
        "**2.4a**\n",
        "\n",
        "---\n",
        "\n",
        "The feed forward network model produce an accuracy of 0.1 (10%) and a loss of 2.31, while the leNet model produced an accuracy of 0.41 (41%) and a loss of 1.69 which is 4x the performance of for the model for the feed forward network."
      ]
    },
    {
      "cell_type": "markdown",
      "metadata": {
        "id": "Vi3uaSaDhesw"
      },
      "source": [
        "# Question 3\n",
        "\n",
        "---\n"
      ]
    },
    {
      "cell_type": "code",
      "execution_count": 4,
      "metadata": {
        "id": "MYFwhUb-horN"
      },
      "outputs": [],
      "source": [
        "X = np.array([[7, 5, 0, 0, 3, 2],\n",
        "             [6, 4, 5, 1, 4, 8],\n",
        "             [9, 0, 2, 2, 5, 4],\n",
        "             [6, 3, 4, 7, 9, 8],\n",
        "             [5, 7, 5, 6, 9, 0],\n",
        "             [7, 9, 0, 8, 2, 3]])\n",
        "\n",
        "f = np.array([[1, 0, -1],\n",
        "             [2, 0, -2],\n",
        "             [1, 0, -1]])"
      ]
    },
    {
      "cell_type": "markdown",
      "metadata": {
        "id": "WQAfoyJiY9S7"
      },
      "source": [
        "**3.1**\n",
        "\n",
        "---\n",
        "\n"
      ]
    },
    {
      "cell_type": "markdown",
      "metadata": {
        "id": "WpVFoWjqZQly"
      },
      "source": [
        "The number of parameters in the filter can be calculated using the formula below:\n",
        "\n",
        "$Number\\ of\\ parameters  = F^2CK + K$"
      ]
    },
    {
      "cell_type": "code",
      "execution_count": 15,
      "metadata": {
        "id": "ctXSALHEAmh1",
        "colab": {
          "base_uri": "https://localhost:8080/"
        },
        "outputId": "d052a934-b554-4ea6-c76a-0629fff7b128"
      },
      "outputs": [
        {
          "output_type": "stream",
          "name": "stdout",
          "text": [
            "The dimension of the input, X is = (6, 6)\n",
            "The dimension of the filter, f is = (3, 3)\n"
          ]
        }
      ],
      "source": [
        "print(\"The dimension of the input, X is =\", X.shape)\n",
        "print(\"The dimension of the filter, f is =\", f.shape)"
      ]
    },
    {
      "cell_type": "code",
      "execution_count": 5,
      "metadata": {
        "id": "V5-GoXO6ZPFi",
        "colab": {
          "base_uri": "https://localhost:8080/"
        },
        "outputId": "f5e0d027-9af1-44c5-9e81-5ff3eed72b7e"
      },
      "outputs": [
        {
          "output_type": "stream",
          "name": "stdout",
          "text": [
            "The kernel has 10 parameters\n"
          ]
        }
      ],
      "source": [
        "F = f.shape[0]\n",
        "C = 1\n",
        "K = 1\n",
        "\n",
        "n_parameters = (F **2) * C * K + K\n",
        "print(f\"The kernel has {n_parameters} parameters\")"
      ]
    },
    {
      "cell_type": "markdown",
      "source": [
        "\n",
        "\n",
        "---\n",
        "The kernel has 10 parameters\n"
      ],
      "metadata": {
        "id": "T3ilFFwSg9Ne"
      }
    },
    {
      "cell_type": "markdown",
      "metadata": {
        "id": "-mt01Rg4gCHe"
      },
      "source": [
        "\n",
        "\n",
        "---\n",
        "\n",
        "\n",
        "**3.2** \n",
        "\n",
        "---\n",
        "\n"
      ]
    },
    {
      "cell_type": "markdown",
      "metadata": {
        "id": "qDV6Kg8cArS_"
      },
      "source": [
        "The outputted activation map is gotten by element-wise multiplication of the elements in the input matrix and those in the filter"
      ]
    },
    {
      "cell_type": "code",
      "execution_count": 6,
      "metadata": {
        "id": "S0cMB5wKJpyk"
      },
      "outputs": [],
      "source": [
        "def get_activation_map(X, f):\n",
        "  activation_map = []\n",
        "\n",
        "  output_dim = 1 + (X.shape[0] - f.shape[0])\n",
        "\n",
        "  for i in range(output_dim):\n",
        "\n",
        "    row = []\n",
        "    for j in range(output_dim):\n",
        "\n",
        "      x1 = X[i:3+i, j:3+j]\n",
        "      a1 = np.sum(np.multiply(x1, f))\n",
        "\n",
        "      row.append(a1)\n",
        "  \n",
        "    activation_map.append(row)\n",
        "  return np.array(activation_map)\n"
      ]
    },
    {
      "cell_type": "code",
      "execution_count": 7,
      "metadata": {
        "id": "8ddsvAZkJ5Ge",
        "colab": {
          "base_uri": "https://localhost:8080/"
        },
        "outputId": "af20279e-c943-40ca-8bb8-1306e26e86e1"
      },
      "outputs": [
        {
          "output_type": "stream",
          "name": "stdout",
          "text": [
            "[[ 16   9  -4 -18]\n",
            " [ 17  -5 -10 -12]\n",
            " [ 11  -9 -17   2]\n",
            " [  9  -1 -15  16]]\n"
          ]
        }
      ],
      "source": [
        "activation_map = get_activation_map(X, f)\n",
        "print(activation_map)"
      ]
    },
    {
      "cell_type": "markdown",
      "metadata": {
        "id": "mTEs6HqDALPv"
      },
      "source": [
        "\n",
        "\n",
        "---\n",
        "\n",
        "\n",
        "**3.3**\n",
        "\n",
        "---\n",
        "\n"
      ]
    },
    {
      "cell_type": "markdown",
      "metadata": {
        "id": "QPq47rahA2Jo"
      },
      "source": [
        "When max pooling of dimension (2, 2) is applied to the activation map, we get the following"
      ]
    },
    {
      "cell_type": "code",
      "execution_count": 8,
      "metadata": {
        "id": "XMz9gOXX79gq"
      },
      "outputs": [],
      "source": [
        "def apply_max_pooling(activation_map):\n",
        "  output = []\n",
        "\n",
        "  for i in range(0, int(activation_map.shape[0]/2) + 1, 2):\n",
        "    row = []\n",
        "\n",
        "    for j in range(0, int(activation_map.shape[1]/2) + 1, 2):\n",
        "      max_ = max(activation_map[i:2+i, j:2+j].flatten())\n",
        "\n",
        "      row.append(max_)\n",
        "  \n",
        "    output.append(row)\n",
        "  return np.array(output)"
      ]
    },
    {
      "cell_type": "code",
      "execution_count": 9,
      "metadata": {
        "id": "m7EdbvzN-jxJ",
        "colab": {
          "base_uri": "https://localhost:8080/"
        },
        "outputId": "e14830e4-e9fa-4b13-eebc-c453678c6465"
      },
      "outputs": [
        {
          "output_type": "stream",
          "name": "stdout",
          "text": [
            "[[17 -4]\n",
            " [11 16]]\n"
          ]
        }
      ],
      "source": [
        "output = apply_max_pooling(activation_map)\n",
        "print(output)"
      ]
    }
  ],
  "metadata": {
    "colab": {
      "collapsed_sections": [
        "Vi3uaSaDhesw"
      ],
      "provenance": []
    },
    "gpuClass": "standard",
    "kernelspec": {
      "display_name": "Python 3",
      "name": "python3"
    },
    "language_info": {
      "name": "python"
    },
    "accelerator": "GPU"
  },
  "nbformat": 4,
  "nbformat_minor": 0
}