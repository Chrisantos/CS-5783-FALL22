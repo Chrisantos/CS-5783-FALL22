{
  "cells": [
    {
      "cell_type": "markdown",
      "source": [
        "\n",
        "\n",
        "---\n",
        "\n",
        "# QUESTION 1\n",
        "\n",
        "\n",
        "---\n",
        "\n",
        "\n"
      ],
      "metadata": {
        "id": "LFJT8jtmfnyv"
      }
    },
    {
      "cell_type": "markdown",
      "metadata": {
        "id": "YypiK33etzCA"
      },
      "source": [
        "GOAL:\n",
        "\n",
        "---\n",
        "Implement a Linear Regression model to fit a line which would help model labels for x.\n",
        "\n",
        "Approach:\n",
        "0. We start off the training by computing the value for h(x) using our randomly initialized weights.\n",
        "\\\n",
        "\\begin{equation}\n",
        "  h(x) = \\sum_{i=0}^{m}θ_i x_i = θ^Tx\n",
        "\\end{equation}\n",
        "\n",
        "1. Compute the loss function using:\n",
        "\\\n",
        "\\begin{equation}\n",
        "  J(θ) = \\frac{1}{2}\\sum_{i=1}^{m}(hθ(x^{(i)}) - y{(i)})^2\n",
        "\\end{equation}\n",
        "\n",
        "2. Peform gradient descent to minimize the loss function. This is done until convergence i.e our loss function becomes equal to or almost zero. Or we exhaust our training data.\n",
        "\\\n",
        "\\begin{equation}\n",
        "  θ_j := θ_j - α \\frac{∂}{∂ θ_j}J(θ)\n",
        "\\end{equation}\n",
        "\n",
        "\\begin{equation}\n",
        "  θ_j := θ_j - α \\frac{∂}{∂ θ_j}J(θ)\n",
        "\\end{equation}\n",
        "\n",
        "3. Finally, we use the weights to predict our label, y.\n",
        "\\\n",
        "\\begin{equation}\n",
        "  h(x) = \\sum_{i=0}^{n}θ_i x_i = θ^Tx\n",
        "\\end{equation}\n",
        "\n",
        "Steps 0 - 2 are computed iteratively."
      ]
    },
    {
      "cell_type": "code",
      "execution_count": 16,
      "metadata": {
        "id": "nEk9gGcigyjx"
      },
      "outputs": [],
      "source": [
        "import numpy as np\n",
        "import pandas as pd\n",
        "import matplotlib.pyplot as plt"
      ]
    },
    {
      "cell_type": "code",
      "execution_count": 17,
      "metadata": {
        "id": "eBz6-htrmZoJ"
      },
      "outputs": [],
      "source": [
        "path = \"/content/drive/MyDrive/\""
      ]
    },
    {
      "cell_type": "code",
      "execution_count": 18,
      "metadata": {
        "id": "DxO9wwYamWkT"
      },
      "outputs": [],
      "source": [
        "X_train = np.load(path + \"x_train.npy\", encoding='bytes')\n",
        "y_train = np.load(path + \"y_train.npy\", encoding='bytes')\n",
        "\n",
        "X_test = np.load(path + \"x_test.npy\", encoding='bytes')\n",
        "y_test = np.load(path + \"y_test.npy\", encoding='bytes')"
      ]
    },
    {
      "cell_type": "code",
      "execution_count": 19,
      "metadata": {
        "colab": {
          "base_uri": "https://localhost:8080/"
        },
        "id": "PaGWkJ2Dm3SA",
        "outputId": "4b2b39ca-0152-4f00-fb86-06b86d541980"
      },
      "outputs": [
        {
          "output_type": "stream",
          "name": "stdout",
          "text": [
            "(100, 1)\n",
            "(100,)\n"
          ]
        }
      ],
      "source": [
        "print(X_train.shape)\n",
        "print(y_train.shape)"
      ]
    },
    {
      "cell_type": "code",
      "execution_count": 20,
      "metadata": {
        "colab": {
          "base_uri": "https://localhost:8080/",
          "height": 206
        },
        "id": "kklTcKvgcLkN",
        "outputId": "b7fd0ffd-c9b2-4266-f219-9ce780976d0a"
      },
      "outputs": [
        {
          "output_type": "execute_result",
          "data": {
            "text/plain": [
              "          x          y\n",
              "0 -1.283572   6.598155\n",
              "1 -0.382959   2.611481\n",
              "2 -0.630463   1.600551\n",
              "3  1.859296  -4.607531\n",
              "4 -1.506802  10.533453"
            ],
            "text/html": [
              "\n",
              "  <div id=\"df-264eed43-2e06-441b-b35d-60bf6e78eb61\">\n",
              "    <div class=\"colab-df-container\">\n",
              "      <div>\n",
              "<style scoped>\n",
              "    .dataframe tbody tr th:only-of-type {\n",
              "        vertical-align: middle;\n",
              "    }\n",
              "\n",
              "    .dataframe tbody tr th {\n",
              "        vertical-align: top;\n",
              "    }\n",
              "\n",
              "    .dataframe thead th {\n",
              "        text-align: right;\n",
              "    }\n",
              "</style>\n",
              "<table border=\"1\" class=\"dataframe\">\n",
              "  <thead>\n",
              "    <tr style=\"text-align: right;\">\n",
              "      <th></th>\n",
              "      <th>x</th>\n",
              "      <th>y</th>\n",
              "    </tr>\n",
              "  </thead>\n",
              "  <tbody>\n",
              "    <tr>\n",
              "      <th>0</th>\n",
              "      <td>-1.283572</td>\n",
              "      <td>6.598155</td>\n",
              "    </tr>\n",
              "    <tr>\n",
              "      <th>1</th>\n",
              "      <td>-0.382959</td>\n",
              "      <td>2.611481</td>\n",
              "    </tr>\n",
              "    <tr>\n",
              "      <th>2</th>\n",
              "      <td>-0.630463</td>\n",
              "      <td>1.600551</td>\n",
              "    </tr>\n",
              "    <tr>\n",
              "      <th>3</th>\n",
              "      <td>1.859296</td>\n",
              "      <td>-4.607531</td>\n",
              "    </tr>\n",
              "    <tr>\n",
              "      <th>4</th>\n",
              "      <td>-1.506802</td>\n",
              "      <td>10.533453</td>\n",
              "    </tr>\n",
              "  </tbody>\n",
              "</table>\n",
              "</div>\n",
              "      <button class=\"colab-df-convert\" onclick=\"convertToInteractive('df-264eed43-2e06-441b-b35d-60bf6e78eb61')\"\n",
              "              title=\"Convert this dataframe to an interactive table.\"\n",
              "              style=\"display:none;\">\n",
              "        \n",
              "  <svg xmlns=\"http://www.w3.org/2000/svg\" height=\"24px\"viewBox=\"0 0 24 24\"\n",
              "       width=\"24px\">\n",
              "    <path d=\"M0 0h24v24H0V0z\" fill=\"none\"/>\n",
              "    <path d=\"M18.56 5.44l.94 2.06.94-2.06 2.06-.94-2.06-.94-.94-2.06-.94 2.06-2.06.94zm-11 1L8.5 8.5l.94-2.06 2.06-.94-2.06-.94L8.5 2.5l-.94 2.06-2.06.94zm10 10l.94 2.06.94-2.06 2.06-.94-2.06-.94-.94-2.06-.94 2.06-2.06.94z\"/><path d=\"M17.41 7.96l-1.37-1.37c-.4-.4-.92-.59-1.43-.59-.52 0-1.04.2-1.43.59L10.3 9.45l-7.72 7.72c-.78.78-.78 2.05 0 2.83L4 21.41c.39.39.9.59 1.41.59.51 0 1.02-.2 1.41-.59l7.78-7.78 2.81-2.81c.8-.78.8-2.07 0-2.86zM5.41 20L4 18.59l7.72-7.72 1.47 1.35L5.41 20z\"/>\n",
              "  </svg>\n",
              "      </button>\n",
              "      \n",
              "  <style>\n",
              "    .colab-df-container {\n",
              "      display:flex;\n",
              "      flex-wrap:wrap;\n",
              "      gap: 12px;\n",
              "    }\n",
              "\n",
              "    .colab-df-convert {\n",
              "      background-color: #E8F0FE;\n",
              "      border: none;\n",
              "      border-radius: 50%;\n",
              "      cursor: pointer;\n",
              "      display: none;\n",
              "      fill: #1967D2;\n",
              "      height: 32px;\n",
              "      padding: 0 0 0 0;\n",
              "      width: 32px;\n",
              "    }\n",
              "\n",
              "    .colab-df-convert:hover {\n",
              "      background-color: #E2EBFA;\n",
              "      box-shadow: 0px 1px 2px rgba(60, 64, 67, 0.3), 0px 1px 3px 1px rgba(60, 64, 67, 0.15);\n",
              "      fill: #174EA6;\n",
              "    }\n",
              "\n",
              "    [theme=dark] .colab-df-convert {\n",
              "      background-color: #3B4455;\n",
              "      fill: #D2E3FC;\n",
              "    }\n",
              "\n",
              "    [theme=dark] .colab-df-convert:hover {\n",
              "      background-color: #434B5C;\n",
              "      box-shadow: 0px 1px 3px 1px rgba(0, 0, 0, 0.15);\n",
              "      filter: drop-shadow(0px 1px 2px rgba(0, 0, 0, 0.3));\n",
              "      fill: #FFFFFF;\n",
              "    }\n",
              "  </style>\n",
              "\n",
              "      <script>\n",
              "        const buttonEl =\n",
              "          document.querySelector('#df-264eed43-2e06-441b-b35d-60bf6e78eb61 button.colab-df-convert');\n",
              "        buttonEl.style.display =\n",
              "          google.colab.kernel.accessAllowed ? 'block' : 'none';\n",
              "\n",
              "        async function convertToInteractive(key) {\n",
              "          const element = document.querySelector('#df-264eed43-2e06-441b-b35d-60bf6e78eb61');\n",
              "          const dataTable =\n",
              "            await google.colab.kernel.invokeFunction('convertToInteractive',\n",
              "                                                     [key], {});\n",
              "          if (!dataTable) return;\n",
              "\n",
              "          const docLinkHtml = 'Like what you see? Visit the ' +\n",
              "            '<a target=\"_blank\" href=https://colab.research.google.com/notebooks/data_table.ipynb>data table notebook</a>'\n",
              "            + ' to learn more about interactive tables.';\n",
              "          element.innerHTML = '';\n",
              "          dataTable['output_type'] = 'display_data';\n",
              "          await google.colab.output.renderOutput(dataTable, element);\n",
              "          const docLink = document.createElement('div');\n",
              "          docLink.innerHTML = docLinkHtml;\n",
              "          element.appendChild(docLink);\n",
              "        }\n",
              "      </script>\n",
              "    </div>\n",
              "  </div>\n",
              "  "
            ]
          },
          "metadata": {},
          "execution_count": 20
        }
      ],
      "source": [
        "train_data = {\n",
        "    'x': X_train.flatten(),\n",
        "    'y': y_train.flatten(),\n",
        "}\n",
        "\n",
        "df_train = pd.DataFrame(train_data)\n",
        "df_train.head()"
      ]
    },
    {
      "cell_type": "code",
      "source": [
        "test_data = {\n",
        "    'x': X_test.flatten(),\n",
        "    'y': y_test.flatten(),\n",
        "}\n",
        "\n",
        "df_test = pd.DataFrame(test_data)\n",
        "df_test.head()"
      ],
      "metadata": {
        "colab": {
          "base_uri": "https://localhost:8080/",
          "height": 206
        },
        "id": "7Lpdi8PHd865",
        "outputId": "93d6b6c8-998f-4b6a-99ee-88f94e17eed8"
      },
      "execution_count": 21,
      "outputs": [
        {
          "output_type": "execute_result",
          "data": {
            "text/plain": [
              "          x          y\n",
              "0 -0.976908   2.799660\n",
              "1  0.820125  10.159309\n",
              "2  0.125181   7.236150\n",
              "3  0.782143  10.286342\n",
              "4  0.602776  10.355240"
            ],
            "text/html": [
              "\n",
              "  <div id=\"df-a945a806-c8ac-4e5e-af17-fc0b66f274a0\">\n",
              "    <div class=\"colab-df-container\">\n",
              "      <div>\n",
              "<style scoped>\n",
              "    .dataframe tbody tr th:only-of-type {\n",
              "        vertical-align: middle;\n",
              "    }\n",
              "\n",
              "    .dataframe tbody tr th {\n",
              "        vertical-align: top;\n",
              "    }\n",
              "\n",
              "    .dataframe thead th {\n",
              "        text-align: right;\n",
              "    }\n",
              "</style>\n",
              "<table border=\"1\" class=\"dataframe\">\n",
              "  <thead>\n",
              "    <tr style=\"text-align: right;\">\n",
              "      <th></th>\n",
              "      <th>x</th>\n",
              "      <th>y</th>\n",
              "    </tr>\n",
              "  </thead>\n",
              "  <tbody>\n",
              "    <tr>\n",
              "      <th>0</th>\n",
              "      <td>-0.976908</td>\n",
              "      <td>2.799660</td>\n",
              "    </tr>\n",
              "    <tr>\n",
              "      <th>1</th>\n",
              "      <td>0.820125</td>\n",
              "      <td>10.159309</td>\n",
              "    </tr>\n",
              "    <tr>\n",
              "      <th>2</th>\n",
              "      <td>0.125181</td>\n",
              "      <td>7.236150</td>\n",
              "    </tr>\n",
              "    <tr>\n",
              "      <th>3</th>\n",
              "      <td>0.782143</td>\n",
              "      <td>10.286342</td>\n",
              "    </tr>\n",
              "    <tr>\n",
              "      <th>4</th>\n",
              "      <td>0.602776</td>\n",
              "      <td>10.355240</td>\n",
              "    </tr>\n",
              "  </tbody>\n",
              "</table>\n",
              "</div>\n",
              "      <button class=\"colab-df-convert\" onclick=\"convertToInteractive('df-a945a806-c8ac-4e5e-af17-fc0b66f274a0')\"\n",
              "              title=\"Convert this dataframe to an interactive table.\"\n",
              "              style=\"display:none;\">\n",
              "        \n",
              "  <svg xmlns=\"http://www.w3.org/2000/svg\" height=\"24px\"viewBox=\"0 0 24 24\"\n",
              "       width=\"24px\">\n",
              "    <path d=\"M0 0h24v24H0V0z\" fill=\"none\"/>\n",
              "    <path d=\"M18.56 5.44l.94 2.06.94-2.06 2.06-.94-2.06-.94-.94-2.06-.94 2.06-2.06.94zm-11 1L8.5 8.5l.94-2.06 2.06-.94-2.06-.94L8.5 2.5l-.94 2.06-2.06.94zm10 10l.94 2.06.94-2.06 2.06-.94-2.06-.94-.94-2.06-.94 2.06-2.06.94z\"/><path d=\"M17.41 7.96l-1.37-1.37c-.4-.4-.92-.59-1.43-.59-.52 0-1.04.2-1.43.59L10.3 9.45l-7.72 7.72c-.78.78-.78 2.05 0 2.83L4 21.41c.39.39.9.59 1.41.59.51 0 1.02-.2 1.41-.59l7.78-7.78 2.81-2.81c.8-.78.8-2.07 0-2.86zM5.41 20L4 18.59l7.72-7.72 1.47 1.35L5.41 20z\"/>\n",
              "  </svg>\n",
              "      </button>\n",
              "      \n",
              "  <style>\n",
              "    .colab-df-container {\n",
              "      display:flex;\n",
              "      flex-wrap:wrap;\n",
              "      gap: 12px;\n",
              "    }\n",
              "\n",
              "    .colab-df-convert {\n",
              "      background-color: #E8F0FE;\n",
              "      border: none;\n",
              "      border-radius: 50%;\n",
              "      cursor: pointer;\n",
              "      display: none;\n",
              "      fill: #1967D2;\n",
              "      height: 32px;\n",
              "      padding: 0 0 0 0;\n",
              "      width: 32px;\n",
              "    }\n",
              "\n",
              "    .colab-df-convert:hover {\n",
              "      background-color: #E2EBFA;\n",
              "      box-shadow: 0px 1px 2px rgba(60, 64, 67, 0.3), 0px 1px 3px 1px rgba(60, 64, 67, 0.15);\n",
              "      fill: #174EA6;\n",
              "    }\n",
              "\n",
              "    [theme=dark] .colab-df-convert {\n",
              "      background-color: #3B4455;\n",
              "      fill: #D2E3FC;\n",
              "    }\n",
              "\n",
              "    [theme=dark] .colab-df-convert:hover {\n",
              "      background-color: #434B5C;\n",
              "      box-shadow: 0px 1px 3px 1px rgba(0, 0, 0, 0.15);\n",
              "      filter: drop-shadow(0px 1px 2px rgba(0, 0, 0, 0.3));\n",
              "      fill: #FFFFFF;\n",
              "    }\n",
              "  </style>\n",
              "\n",
              "      <script>\n",
              "        const buttonEl =\n",
              "          document.querySelector('#df-a945a806-c8ac-4e5e-af17-fc0b66f274a0 button.colab-df-convert');\n",
              "        buttonEl.style.display =\n",
              "          google.colab.kernel.accessAllowed ? 'block' : 'none';\n",
              "\n",
              "        async function convertToInteractive(key) {\n",
              "          const element = document.querySelector('#df-a945a806-c8ac-4e5e-af17-fc0b66f274a0');\n",
              "          const dataTable =\n",
              "            await google.colab.kernel.invokeFunction('convertToInteractive',\n",
              "                                                     [key], {});\n",
              "          if (!dataTable) return;\n",
              "\n",
              "          const docLinkHtml = 'Like what you see? Visit the ' +\n",
              "            '<a target=\"_blank\" href=https://colab.research.google.com/notebooks/data_table.ipynb>data table notebook</a>'\n",
              "            + ' to learn more about interactive tables.';\n",
              "          element.innerHTML = '';\n",
              "          dataTable['output_type'] = 'display_data';\n",
              "          await google.colab.output.renderOutput(dataTable, element);\n",
              "          const docLink = document.createElement('div');\n",
              "          docLink.innerHTML = docLinkHtml;\n",
              "          element.appendChild(docLink);\n",
              "        }\n",
              "      </script>\n",
              "    </div>\n",
              "  </div>\n",
              "  "
            ]
          },
          "metadata": {},
          "execution_count": 21
        }
      ]
    },
    {
      "cell_type": "code",
      "source": [
        "print(len(X_train))\n",
        "print(len(X_test))"
      ],
      "metadata": {
        "colab": {
          "base_uri": "https://localhost:8080/"
        },
        "id": "JFNeooPxeHvr",
        "outputId": "2960d74b-0c25-421c-adb4-b031248c500c"
      },
      "execution_count": 22,
      "outputs": [
        {
          "output_type": "stream",
          "name": "stdout",
          "text": [
            "100\n",
            "100\n"
          ]
        }
      ]
    },
    {
      "cell_type": "markdown",
      "source": [
        "The Linear Regression Model Using Gradient Descent Approach\n",
        "\n",
        "---\n",
        "\n"
      ],
      "metadata": {
        "id": "v12_IRR_cTnw"
      }
    },
    {
      "cell_type": "code",
      "source": [
        "class MyLinearRegression:\n",
        "  def __init__(self, lr = 0.001, n_iterations = 1000):\n",
        "    self.w = None\n",
        "    self.losses = []\n",
        "    self.lr = lr\n",
        "    self.n_iterations = n_iterations\n",
        "    \n",
        "  def fit(self, X, y):\n",
        "    # X.shape = m x n\n",
        "    # y = m x 1\n",
        "    # w.shape = n x 1\n",
        "\n",
        "    # Initialize the weights with random values\n",
        "    self.w = np.zeros((X.shape[1], 1))\n",
        "    m = X.shape[0]\n",
        "\n",
        "    y = np.reshape(y.flatten(), (y.shape[0], 1))\n",
        "    \n",
        "    for _ in range(self.n_iterations):\n",
        "      h = np.dot(X, self.w)\n",
        "      error = h - y\n",
        "\n",
        "      self.w -= (self.lr / m) * np.dot(X.T, error)\n",
        "\n",
        "      loss = np.sum(error ** 2) / 2*m\n",
        "      self.losses.append(loss)\n",
        "\n",
        "  def predict(self, x_test):\n",
        "    return np.dot(x_test, self.w)\n",
        "\n",
        "  def rmse(self, y_actual, y_pred):\n",
        "    # This computes the root mean squared error\n",
        "\n",
        "    error = (1/len(y_actual)) * np.sum((y_actual - y_pred) ** 2)\n",
        "    return np.sqrt(error)\n",
        "\n",
        "  def alse(self, y_actual, y_pred):\n",
        "    # This computes the average least squares error\n",
        "\n",
        "    error = (1/2) * np.sum((y_pred - y_actual) ** 2)\n",
        "    return error / len(y_actual)"
      ],
      "metadata": {
        "id": "NVABM98gcS_a"
      },
      "execution_count": 23,
      "outputs": []
    },
    {
      "cell_type": "markdown",
      "source": [
        "\n",
        "\n",
        "---\n",
        "**Question 1.1**\n"
      ],
      "metadata": {
        "id": "7FgC5BoWcCZY"
      }
    },
    {
      "cell_type": "code",
      "execution_count": 24,
      "metadata": {
        "colab": {
          "base_uri": "https://localhost:8080/",
          "height": 294
        },
        "id": "NCOM8OcHbfPE",
        "outputId": "d52dab60-53a5-4c26-b4eb-df806352547c"
      },
      "outputs": [
        {
          "output_type": "display_data",
          "data": {
            "text/plain": [
              "<Figure size 432x288 with 1 Axes>"
            ],
            "image/png": "[encoded data removed]"
          },
          "metadata": {
            "needs_background": "light"
          }
        }
      ],
      "source": [
        "# Plot for the train dataset\n",
        "plt.scatter(X_train, y_train, s=12)\n",
        "plt.suptitle(\"Plot for the train dataset\", fontsize=10)\n",
        "plt.show()"
      ]
    },
    {
      "cell_type": "code",
      "source": [
        "# Plot for the test dataset\n",
        "plt.scatter(X_test, y_test, s=12)\n",
        "plt.suptitle(\"Plot for the test dataset\", fontsize=10)\n",
        "plt.show()"
      ],
      "metadata": {
        "colab": {
          "base_uri": "https://localhost:8080/",
          "height": 294
        },
        "id": "NPlJzBZ2dfDo",
        "outputId": "44ae2428-cada-4ec2-bbcf-27ff55888a9b"
      },
      "execution_count": 25,
      "outputs": [
        {
          "output_type": "display_data",
          "data": {
            "text/plain": [
              "<Figure size 432x288 with 1 Axes>"
            ],
            "image/png": "[encoded data removed]"
          },
          "metadata": {
            "needs_background": "light"
          }
        }
      ]
    },
    {
      "cell_type": "code",
      "source": [
        "model = MyLinearRegression()\n",
        "model.fit(X_train, y_train)\n",
        "\n",
        "y_pred = model.predict(X_test)"
      ],
      "metadata": {
        "id": "h3J0SNQIeIub"
      },
      "execution_count": 26,
      "outputs": []
    },
    {
      "cell_type": "code",
      "source": [
        "# Visualising the relationship between training data and prediction.    \n",
        "\n",
        "plt.plot(X_train, y_train, 'ro', label=\"Train\")\n",
        "plt.plot(X_test, y_pred, 'bo', label=\"Prediction on test data\")\n",
        "plt.suptitle(\"Plotting the train and the test data\", fontsize=10)\n",
        "plt.legend(loc=\"upper left\")\n",
        "plt.show()"
      ],
      "metadata": {
        "colab": {
          "base_uri": "https://localhost:8080/",
          "height": 294
        },
        "id": "Yg1eag2lcLkh",
        "outputId": "11ce2792-d51c-414c-ef7d-10a6301017dc"
      },
      "execution_count": 27,
      "outputs": [
        {
          "output_type": "display_data",
          "data": {
            "text/plain": [
              "<Figure size 432x288 with 1 Axes>"
            ],
            "image/png": "[encoded data removed]"
          },
          "metadata": {
            "needs_background": "light"
          }
        }
      ]
    },
    {
      "cell_type": "code",
      "execution_count": 28,
      "metadata": {
        "colab": {
          "base_uri": "https://localhost:8080/"
        },
        "id": "jMu1kpc9IrfR",
        "outputId": "c76fd7e2-dd86-4db9-9f0e-0bd2a4b2e8eb"
      },
      "outputs": [
        {
          "output_type": "stream",
          "name": "stdout",
          "text": [
            "The prediction error is: 6.72137853955021\n"
          ]
        }
      ],
      "source": [
        "print(f'The prediction error is: {model.rmse(y_test, y_pred)}')"
      ]
    },
    {
      "cell_type": "markdown",
      "metadata": {
        "id": "1O_fKqhKOrr_"
      },
      "source": [
        "\n",
        "\n",
        "---\n",
        "\n",
        "\n",
        "**Question 1.2a**\n",
        "\n",
        "The relationship is not linear\n",
        "\n",
        "  \n",
        "\n",
        "**Question 1.2b**\n",
        "\n",
        "i). Yes, we do. We can engineer the features by applying the Basis function to create features that are deterministic of the original ones.\n",
        "\n",
        "ii). We can try 2nd to 4th degree polynomials i.e 2nd to 4th order basis functions."
      ]
    },
    {
      "cell_type": "code",
      "source": [
        "# This is used to visualize the effect if the basis functions\n",
        "\n",
        "def fit_model_to_data(x_train_modified, title):\n",
        "  model = MyLinearRegression()\n",
        "  model.fit(x_train_modified, y_train)\n",
        "\n",
        "  y_train_modified = model.predict(x_train_modified)\n",
        "\n",
        "  error = model.alse(y_train, y_train_modified)\n",
        "\n",
        "  error = round(error, 2)\n",
        "\n",
        "  # Visualising the relationship between training data and prediction.    \n",
        "\n",
        "  plt.plot(X_train, y_train, 'ro', label=\"Actual\")\n",
        "  plt.plot(X_train, y_train_modified, 'bo', label=\"Predicted\")\n",
        "  plt.suptitle(title + \". The prediction error (Average Least Square Error) is: \" + str(error), fontsize=10)\n",
        "  plt.legend(loc=\"upper left\")\n",
        "  plt.show()"
      ],
      "metadata": {
        "id": "z9oSdMHe5r9N"
      },
      "execution_count": 29,
      "outputs": []
    },
    {
      "cell_type": "markdown",
      "source": [
        "---\n",
        "We can use our model to plot and visualize the result\n"
      ],
      "metadata": {
        "id": "UdyLhUFEbTtt"
      }
    },
    {
      "cell_type": "code",
      "source": [
        "fit_model_to_data(X_train, 'Without basis function')"
      ],
      "metadata": {
        "colab": {
          "base_uri": "https://localhost:8080/",
          "height": 294
        },
        "id": "Mf4INP2N5R3N",
        "outputId": "2ec3b411-d549-4a3a-fae4-490c86aa3f4c"
      },
      "execution_count": 30,
      "outputs": [
        {
          "output_type": "display_data",
          "data": {
            "text/plain": [
              "<Figure size 432x288 with 1 Axes>"
            ],
            "image/png": "[encoded data removed]"
          },
          "metadata": {
            "needs_background": "light"
          }
        }
      ]
    },
    {
      "cell_type": "markdown",
      "source": [
        "\n",
        "\n",
        "---\n",
        "\n",
        "Computing the Quadratic Basis Function"
      ],
      "metadata": {
        "id": "jXcaH5FQ7m6J"
      }
    },
    {
      "cell_type": "code",
      "source": [
        "# Adding a 2nd degree basis function to the features\n",
        "X_train_quad = np.concatenate([X_train, np.power(X_train, 2)], axis=1)"
      ],
      "metadata": {
        "id": "nNlMuISF5q7q"
      },
      "execution_count": 31,
      "outputs": []
    },
    {
      "cell_type": "code",
      "source": [
        "fit_model_to_data(X_train_quad, '2nd Order Polynomial Basis Function')"
      ],
      "metadata": {
        "colab": {
          "base_uri": "https://localhost:8080/",
          "height": 294
        },
        "id": "QsXmBz7Y3ZlS",
        "outputId": "aba4ff33-9f9d-4813-a741-9fd1ac8ca45e"
      },
      "execution_count": 32,
      "outputs": [
        {
          "output_type": "display_data",
          "data": {
            "text/plain": [
              "<Figure size 432x288 with 1 Axes>"
            ],
            "image/png": "[encoded data removed]"
          },
          "metadata": {
            "needs_background": "light"
          }
        }
      ]
    },
    {
      "cell_type": "markdown",
      "source": [
        "\n",
        "\n",
        "---\n",
        "\n",
        "Computing the Cubic Basis Function"
      ],
      "metadata": {
        "id": "VA2DswgQLeVC"
      }
    },
    {
      "cell_type": "code",
      "source": [
        "# Adding a 3rd degree basis function to the features\n",
        "X_train_cube = np.concatenate([X_train, np.power(X_train, 2), np.power(X_train, 3)], axis=1)"
      ],
      "metadata": {
        "id": "Yoh5rN5s7e5z"
      },
      "execution_count": 33,
      "outputs": []
    },
    {
      "cell_type": "code",
      "source": [
        "fit_model_to_data(X_train_cube, '3rd Order Polynomial Basis Function')"
      ],
      "metadata": {
        "colab": {
          "base_uri": "https://localhost:8080/",
          "height": 294
        },
        "id": "NtyssSDBQdGe",
        "outputId": "f80565a1-ba5b-4a81-a863-08105182f7bf"
      },
      "execution_count": 34,
      "outputs": [
        {
          "output_type": "display_data",
          "data": {
            "text/plain": [
              "<Figure size 432x288 with 1 Axes>"
            ],
            "image/png": "[encoded data removed]"
          },
          "metadata": {
            "needs_background": "light"
          }
        }
      ]
    },
    {
      "cell_type": "markdown",
      "source": [
        "\n",
        "\n",
        "---\n",
        "\n",
        "Computing the 4th Order Basis Function"
      ],
      "metadata": {
        "id": "uiqP4vjd3t8R"
      }
    },
    {
      "cell_type": "code",
      "source": [
        "# Adding a 4th degree basis function to the features\n",
        "X_train_4th = np.concatenate([X_train, np.power(X_train, 2), np.power(X_train, 3), np.power(X_train, 4)], axis=1)"
      ],
      "metadata": {
        "id": "o-DfhD_f1wxB"
      },
      "execution_count": 35,
      "outputs": []
    },
    {
      "cell_type": "code",
      "source": [
        "fit_model_to_data(X_train_4th, '4th Order Polynomial Basis Function')"
      ],
      "metadata": {
        "colab": {
          "base_uri": "https://localhost:8080/",
          "height": 294
        },
        "id": "3RDGC4vy3_C_",
        "outputId": "11c91e65-92d6-4647-f8d9-d790b9884e88"
      },
      "execution_count": 36,
      "outputs": [
        {
          "output_type": "display_data",
          "data": {
            "text/plain": [
              "<Figure size 432x288 with 1 Axes>"
            ],
            "image/png": "[encoded data removed]"
          },
          "metadata": {
            "needs_background": "light"
          }
        }
      ]
    },
    {
      "cell_type": "markdown",
      "source": [
        "\n",
        "\n",
        "---\n",
        "\n",
        "From the plots of the basis functions above we could see that the higher the order of the basis function added, the more it tries to fit the no-linearity of the data. This clearly shows that to model the non-liearity of the dataset, more features need to be created."
      ],
      "metadata": {
        "id": "hPgxv6Gl4H3D"
      }
    },
    {
      "cell_type": "markdown",
      "source": [
        "\n",
        "---\n",
        "\n",
        "# QUESTION 2\n",
        "\n",
        "---\n",
        "\n"
      ],
      "metadata": {
        "id": "rV4f5XS5776K"
      }
    },
    {
      "cell_type": "code",
      "source": [
        "data = pd.read_csv(path + 'Assignment1_Q2_Data.csv')\n",
        "data.drop(['House ID'], inplace=True, axis=1) \n",
        "\n",
        "data.head()"
      ],
      "metadata": {
        "colab": {
          "base_uri": "https://localhost:8080/",
          "height": 206
        },
        "id": "bRthrihd75SJ",
        "outputId": "08361589-6ae3-4762-9544-46c81fbd5789"
      },
      "execution_count": 37,
      "outputs": [
        {
          "output_type": "execute_result",
          "data": {
            "text/plain": [
              "   Local Price  Bathrooms  Land Area  Living area  # Garages  # Rooms  \\\n",
              "0       4.9176        1.0      3.472        0.998        1.0        7   \n",
              "1       5.0208        1.0      3.531        1.500        2.0        7   \n",
              "2       4.5429        1.0      2.275        1.175        1.0        6   \n",
              "3       4.5573        1.0      4.050        1.232        1.0        6   \n",
              "4       5.0597        1.0      4.455        1.121        1.0        6   \n",
              "\n",
              "   # Bedrooms  Age of home  Construction type  Architecture type  \\\n",
              "0           4           42                  3                  1   \n",
              "1           4           62                  1                  1   \n",
              "2           3           40                  2                  1   \n",
              "3           3           54                  4                  1   \n",
              "4           3           42                  3                  1   \n",
              "\n",
              "   # Fire places  Price (1000$)  \n",
              "0              0           25.9  \n",
              "1              0           29.5  \n",
              "2              0           27.9  \n",
              "3              0           25.9  \n",
              "4              0           29.9  "
            ],
            "text/html": [
              "\n",
              "  <div id=\"df-cc1594a4-f863-4368-b955-260ff35b70cb\">\n",
              "    <div class=\"colab-df-container\">\n",
              "      <div>\n",
              "<style scoped>\n",
              "    .dataframe tbody tr th:only-of-type {\n",
              "        vertical-align: middle;\n",
              "    }\n",
              "\n",
              "    .dataframe tbody tr th {\n",
              "        vertical-align: top;\n",
              "    }\n",
              "\n",
              "    .dataframe thead th {\n",
              "        text-align: right;\n",
              "    }\n",
              "</style>\n",
              "<table border=\"1\" class=\"dataframe\">\n",
              "  <thead>\n",
              "    <tr style=\"text-align: right;\">\n",
              "      <th></th>\n",
              "      <th>Local Price</th>\n",
              "      <th>Bathrooms</th>\n",
              "      <th>Land Area</th>\n",
              "      <th>Living area</th>\n",
              "      <th># Garages</th>\n",
              "      <th># Rooms</th>\n",
              "      <th># Bedrooms</th>\n",
              "      <th>Age of home</th>\n",
              "      <th>Construction type</th>\n",
              "      <th>Architecture type</th>\n",
              "      <th># Fire places</th>\n",
              "      <th>Price (1000$)</th>\n",
              "    </tr>\n",
              "  </thead>\n",
              "  <tbody>\n",
              "    <tr>\n",
              "      <th>0</th>\n",
              "      <td>4.9176</td>\n",
              "      <td>1.0</td>\n",
              "      <td>3.472</td>\n",
              "      <td>0.998</td>\n",
              "      <td>1.0</td>\n",
              "      <td>7</td>\n",
              "      <td>4</td>\n",
              "      <td>42</td>\n",
              "      <td>3</td>\n",
              "      <td>1</td>\n",
              "      <td>0</td>\n",
              "      <td>25.9</td>\n",
              "    </tr>\n",
              "    <tr>\n",
              "      <th>1</th>\n",
              "      <td>5.0208</td>\n",
              "      <td>1.0</td>\n",
              "      <td>3.531</td>\n",
              "      <td>1.500</td>\n",
              "      <td>2.0</td>\n",
              "      <td>7</td>\n",
              "      <td>4</td>\n",
              "      <td>62</td>\n",
              "      <td>1</td>\n",
              "      <td>1</td>\n",
              "      <td>0</td>\n",
              "      <td>29.5</td>\n",
              "    </tr>\n",
              "    <tr>\n",
              "      <th>2</th>\n",
              "      <td>4.5429</td>\n",
              "      <td>1.0</td>\n",
              "      <td>2.275</td>\n",
              "      <td>1.175</td>\n",
              "      <td>1.0</td>\n",
              "      <td>6</td>\n",
              "      <td>3</td>\n",
              "      <td>40</td>\n",
              "      <td>2</td>\n",
              "      <td>1</td>\n",
              "      <td>0</td>\n",
              "      <td>27.9</td>\n",
              "    </tr>\n",
              "    <tr>\n",
              "      <th>3</th>\n",
              "      <td>4.5573</td>\n",
              "      <td>1.0</td>\n",
              "      <td>4.050</td>\n",
              "      <td>1.232</td>\n",
              "      <td>1.0</td>\n",
              "      <td>6</td>\n",
              "      <td>3</td>\n",
              "      <td>54</td>\n",
              "      <td>4</td>\n",
              "      <td>1</td>\n",
              "      <td>0</td>\n",
              "      <td>25.9</td>\n",
              "    </tr>\n",
              "    <tr>\n",
              "      <th>4</th>\n",
              "      <td>5.0597</td>\n",
              "      <td>1.0</td>\n",
              "      <td>4.455</td>\n",
              "      <td>1.121</td>\n",
              "      <td>1.0</td>\n",
              "      <td>6</td>\n",
              "      <td>3</td>\n",
              "      <td>42</td>\n",
              "      <td>3</td>\n",
              "      <td>1</td>\n",
              "      <td>0</td>\n",
              "      <td>29.9</td>\n",
              "    </tr>\n",
              "  </tbody>\n",
              "</table>\n",
              "</div>\n",
              "      <button class=\"colab-df-convert\" onclick=\"convertToInteractive('df-cc1594a4-f863-4368-b955-260ff35b70cb')\"\n",
              "              title=\"Convert this dataframe to an interactive table.\"\n",
              "              style=\"display:none;\">\n",
              "        \n",
              "  <svg xmlns=\"http://www.w3.org/2000/svg\" height=\"24px\"viewBox=\"0 0 24 24\"\n",
              "       width=\"24px\">\n",
              "    <path d=\"M0 0h24v24H0V0z\" fill=\"none\"/>\n",
              "    <path d=\"M18.56 5.44l.94 2.06.94-2.06 2.06-.94-2.06-.94-.94-2.06-.94 2.06-2.06.94zm-11 1L8.5 8.5l.94-2.06 2.06-.94-2.06-.94L8.5 2.5l-.94 2.06-2.06.94zm10 10l.94 2.06.94-2.06 2.06-.94-2.06-.94-.94-2.06-.94 2.06-2.06.94z\"/><path d=\"M17.41 7.96l-1.37-1.37c-.4-.4-.92-.59-1.43-.59-.52 0-1.04.2-1.43.59L10.3 9.45l-7.72 7.72c-.78.78-.78 2.05 0 2.83L4 21.41c.39.39.9.59 1.41.59.51 0 1.02-.2 1.41-.59l7.78-7.78 2.81-2.81c.8-.78.8-2.07 0-2.86zM5.41 20L4 18.59l7.72-7.72 1.47 1.35L5.41 20z\"/>\n",
              "  </svg>\n",
              "      </button>\n",
              "      \n",
              "  <style>\n",
              "    .colab-df-container {\n",
              "      display:flex;\n",
              "      flex-wrap:wrap;\n",
              "      gap: 12px;\n",
              "    }\n",
              "\n",
              "    .colab-df-convert {\n",
              "      background-color: #E8F0FE;\n",
              "      border: none;\n",
              "      border-radius: 50%;\n",
              "      cursor: pointer;\n",
              "      display: none;\n",
              "      fill: #1967D2;\n",
              "      height: 32px;\n",
              "      padding: 0 0 0 0;\n",
              "      width: 32px;\n",
              "    }\n",
              "\n",
              "    .colab-df-convert:hover {\n",
              "      background-color: #E2EBFA;\n",
              "      box-shadow: 0px 1px 2px rgba(60, 64, 67, 0.3), 0px 1px 3px 1px rgba(60, 64, 67, 0.15);\n",
              "      fill: #174EA6;\n",
              "    }\n",
              "\n",
              "    [theme=dark] .colab-df-convert {\n",
              "      background-color: #3B4455;\n",
              "      fill: #D2E3FC;\n",
              "    }\n",
              "\n",
              "    [theme=dark] .colab-df-convert:hover {\n",
              "      background-color: #434B5C;\n",
              "      box-shadow: 0px 1px 3px 1px rgba(0, 0, 0, 0.15);\n",
              "      filter: drop-shadow(0px 1px 2px rgba(0, 0, 0, 0.3));\n",
              "      fill: #FFFFFF;\n",
              "    }\n",
              "  </style>\n",
              "\n",
              "      <script>\n",
              "        const buttonEl =\n",
              "          document.querySelector('#df-cc1594a4-f863-4368-b955-260ff35b70cb button.colab-df-convert');\n",
              "        buttonEl.style.display =\n",
              "          google.colab.kernel.accessAllowed ? 'block' : 'none';\n",
              "\n",
              "        async function convertToInteractive(key) {\n",
              "          const element = document.querySelector('#df-cc1594a4-f863-4368-b955-260ff35b70cb');\n",
              "          const dataTable =\n",
              "            await google.colab.kernel.invokeFunction('convertToInteractive',\n",
              "                                                     [key], {});\n",
              "          if (!dataTable) return;\n",
              "\n",
              "          const docLinkHtml = 'Like what you see? Visit the ' +\n",
              "            '<a target=\"_blank\" href=https://colab.research.google.com/notebooks/data_table.ipynb>data table notebook</a>'\n",
              "            + ' to learn more about interactive tables.';\n",
              "          element.innerHTML = '';\n",
              "          dataTable['output_type'] = 'display_data';\n",
              "          await google.colab.output.renderOutput(dataTable, element);\n",
              "          const docLink = document.createElement('div');\n",
              "          docLink.innerHTML = docLinkHtml;\n",
              "          element.appendChild(docLink);\n",
              "        }\n",
              "      </script>\n",
              "    </div>\n",
              "  </div>\n",
              "  "
            ]
          },
          "metadata": {},
          "execution_count": 37
        }
      ]
    },
    {
      "cell_type": "code",
      "source": [
        "# Separating the features and the label\n",
        "X = data.iloc[:, 0:-1]\n",
        "\n",
        "y = data.iloc[:, -1]"
      ],
      "metadata": {
        "id": "7YwDwkHz89JC"
      },
      "execution_count": 38,
      "outputs": []
    },
    {
      "cell_type": "code",
      "source": [
        "X.head()"
      ],
      "metadata": {
        "colab": {
          "base_uri": "https://localhost:8080/",
          "height": 206
        },
        "id": "NcEZURThAHSW",
        "outputId": "e76034c0-72ec-414a-aa23-0e8639c3ba27"
      },
      "execution_count": 39,
      "outputs": [
        {
          "output_type": "execute_result",
          "data": {
            "text/plain": [
              "   Local Price  Bathrooms  Land Area  Living area  # Garages  # Rooms  \\\n",
              "0       4.9176        1.0      3.472        0.998        1.0        7   \n",
              "1       5.0208        1.0      3.531        1.500        2.0        7   \n",
              "2       4.5429        1.0      2.275        1.175        1.0        6   \n",
              "3       4.5573        1.0      4.050        1.232        1.0        6   \n",
              "4       5.0597        1.0      4.455        1.121        1.0        6   \n",
              "\n",
              "   # Bedrooms  Age of home  Construction type  Architecture type  \\\n",
              "0           4           42                  3                  1   \n",
              "1           4           62                  1                  1   \n",
              "2           3           40                  2                  1   \n",
              "3           3           54                  4                  1   \n",
              "4           3           42                  3                  1   \n",
              "\n",
              "   # Fire places  \n",
              "0              0  \n",
              "1              0  \n",
              "2              0  \n",
              "3              0  \n",
              "4              0  "
            ],
            "text/html": [
              "\n",
              "  <div id=\"df-bccfcb0f-5ce9-4b9c-9c2a-4fe7f909b4e9\">\n",
              "    <div class=\"colab-df-container\">\n",
              "      <div>\n",
              "<style scoped>\n",
              "    .dataframe tbody tr th:only-of-type {\n",
              "        vertical-align: middle;\n",
              "    }\n",
              "\n",
              "    .dataframe tbody tr th {\n",
              "        vertical-align: top;\n",
              "    }\n",
              "\n",
              "    .dataframe thead th {\n",
              "        text-align: right;\n",
              "    }\n",
              "</style>\n",
              "<table border=\"1\" class=\"dataframe\">\n",
              "  <thead>\n",
              "    <tr style=\"text-align: right;\">\n",
              "      <th></th>\n",
              "      <th>Local Price</th>\n",
              "      <th>Bathrooms</th>\n",
              "      <th>Land Area</th>\n",
              "      <th>Living area</th>\n",
              "      <th># Garages</th>\n",
              "      <th># Rooms</th>\n",
              "      <th># Bedrooms</th>\n",
              "      <th>Age of home</th>\n",
              "      <th>Construction type</th>\n",
              "      <th>Architecture type</th>\n",
              "      <th># Fire places</th>\n",
              "    </tr>\n",
              "  </thead>\n",
              "  <tbody>\n",
              "    <tr>\n",
              "      <th>0</th>\n",
              "      <td>4.9176</td>\n",
              "      <td>1.0</td>\n",
              "      <td>3.472</td>\n",
              "      <td>0.998</td>\n",
              "      <td>1.0</td>\n",
              "      <td>7</td>\n",
              "      <td>4</td>\n",
              "      <td>42</td>\n",
              "      <td>3</td>\n",
              "      <td>1</td>\n",
              "      <td>0</td>\n",
              "    </tr>\n",
              "    <tr>\n",
              "      <th>1</th>\n",
              "      <td>5.0208</td>\n",
              "      <td>1.0</td>\n",
              "      <td>3.531</td>\n",
              "      <td>1.500</td>\n",
              "      <td>2.0</td>\n",
              "      <td>7</td>\n",
              "      <td>4</td>\n",
              "      <td>62</td>\n",
              "      <td>1</td>\n",
              "      <td>1</td>\n",
              "      <td>0</td>\n",
              "    </tr>\n",
              "    <tr>\n",
              "      <th>2</th>\n",
              "      <td>4.5429</td>\n",
              "      <td>1.0</td>\n",
              "      <td>2.275</td>\n",
              "      <td>1.175</td>\n",
              "      <td>1.0</td>\n",
              "      <td>6</td>\n",
              "      <td>3</td>\n",
              "      <td>40</td>\n",
              "      <td>2</td>\n",
              "      <td>1</td>\n",
              "      <td>0</td>\n",
              "    </tr>\n",
              "    <tr>\n",
              "      <th>3</th>\n",
              "      <td>4.5573</td>\n",
              "      <td>1.0</td>\n",
              "      <td>4.050</td>\n",
              "      <td>1.232</td>\n",
              "      <td>1.0</td>\n",
              "      <td>6</td>\n",
              "      <td>3</td>\n",
              "      <td>54</td>\n",
              "      <td>4</td>\n",
              "      <td>1</td>\n",
              "      <td>0</td>\n",
              "    </tr>\n",
              "    <tr>\n",
              "      <th>4</th>\n",
              "      <td>5.0597</td>\n",
              "      <td>1.0</td>\n",
              "      <td>4.455</td>\n",
              "      <td>1.121</td>\n",
              "      <td>1.0</td>\n",
              "      <td>6</td>\n",
              "      <td>3</td>\n",
              "      <td>42</td>\n",
              "      <td>3</td>\n",
              "      <td>1</td>\n",
              "      <td>0</td>\n",
              "    </tr>\n",
              "  </tbody>\n",
              "</table>\n",
              "</div>\n",
              "      <button class=\"colab-df-convert\" onclick=\"convertToInteractive('df-bccfcb0f-5ce9-4b9c-9c2a-4fe7f909b4e9')\"\n",
              "              title=\"Convert this dataframe to an interactive table.\"\n",
              "              style=\"display:none;\">\n",
              "        \n",
              "  <svg xmlns=\"http://www.w3.org/2000/svg\" height=\"24px\"viewBox=\"0 0 24 24\"\n",
              "       width=\"24px\">\n",
              "    <path d=\"M0 0h24v24H0V0z\" fill=\"none\"/>\n",
              "    <path d=\"M18.56 5.44l.94 2.06.94-2.06 2.06-.94-2.06-.94-.94-2.06-.94 2.06-2.06.94zm-11 1L8.5 8.5l.94-2.06 2.06-.94-2.06-.94L8.5 2.5l-.94 2.06-2.06.94zm10 10l.94 2.06.94-2.06 2.06-.94-2.06-.94-.94-2.06-.94 2.06-2.06.94z\"/><path d=\"M17.41 7.96l-1.37-1.37c-.4-.4-.92-.59-1.43-.59-.52 0-1.04.2-1.43.59L10.3 9.45l-7.72 7.72c-.78.78-.78 2.05 0 2.83L4 21.41c.39.39.9.59 1.41.59.51 0 1.02-.2 1.41-.59l7.78-7.78 2.81-2.81c.8-.78.8-2.07 0-2.86zM5.41 20L4 18.59l7.72-7.72 1.47 1.35L5.41 20z\"/>\n",
              "  </svg>\n",
              "      </button>\n",
              "      \n",
              "  <style>\n",
              "    .colab-df-container {\n",
              "      display:flex;\n",
              "      flex-wrap:wrap;\n",
              "      gap: 12px;\n",
              "    }\n",
              "\n",
              "    .colab-df-convert {\n",
              "      background-color: #E8F0FE;\n",
              "      border: none;\n",
              "      border-radius: 50%;\n",
              "      cursor: pointer;\n",
              "      display: none;\n",
              "      fill: #1967D2;\n",
              "      height: 32px;\n",
              "      padding: 0 0 0 0;\n",
              "      width: 32px;\n",
              "    }\n",
              "\n",
              "    .colab-df-convert:hover {\n",
              "      background-color: #E2EBFA;\n",
              "      box-shadow: 0px 1px 2px rgba(60, 64, 67, 0.3), 0px 1px 3px 1px rgba(60, 64, 67, 0.15);\n",
              "      fill: #174EA6;\n",
              "    }\n",
              "\n",
              "    [theme=dark] .colab-df-convert {\n",
              "      background-color: #3B4455;\n",
              "      fill: #D2E3FC;\n",
              "    }\n",
              "\n",
              "    [theme=dark] .colab-df-convert:hover {\n",
              "      background-color: #434B5C;\n",
              "      box-shadow: 0px 1px 3px 1px rgba(0, 0, 0, 0.15);\n",
              "      filter: drop-shadow(0px 1px 2px rgba(0, 0, 0, 0.3));\n",
              "      fill: #FFFFFF;\n",
              "    }\n",
              "  </style>\n",
              "\n",
              "      <script>\n",
              "        const buttonEl =\n",
              "          document.querySelector('#df-bccfcb0f-5ce9-4b9c-9c2a-4fe7f909b4e9 button.colab-df-convert');\n",
              "        buttonEl.style.display =\n",
              "          google.colab.kernel.accessAllowed ? 'block' : 'none';\n",
              "\n",
              "        async function convertToInteractive(key) {\n",
              "          const element = document.querySelector('#df-bccfcb0f-5ce9-4b9c-9c2a-4fe7f909b4e9');\n",
              "          const dataTable =\n",
              "            await google.colab.kernel.invokeFunction('convertToInteractive',\n",
              "                                                     [key], {});\n",
              "          if (!dataTable) return;\n",
              "\n",
              "          const docLinkHtml = 'Like what you see? Visit the ' +\n",
              "            '<a target=\"_blank\" href=https://colab.research.google.com/notebooks/data_table.ipynb>data table notebook</a>'\n",
              "            + ' to learn more about interactive tables.';\n",
              "          element.innerHTML = '';\n",
              "          dataTable['output_type'] = 'display_data';\n",
              "          await google.colab.output.renderOutput(dataTable, element);\n",
              "          const docLink = document.createElement('div');\n",
              "          docLink.innerHTML = docLinkHtml;\n",
              "          element.appendChild(docLink);\n",
              "        }\n",
              "      </script>\n",
              "    </div>\n",
              "  </div>\n",
              "  "
            ]
          },
          "metadata": {},
          "execution_count": 39
        }
      ]
    },
    {
      "cell_type": "code",
      "source": [
        "y = y.values"
      ],
      "metadata": {
        "id": "t9cw92B7A0Am"
      },
      "execution_count": 40,
      "outputs": []
    },
    {
      "cell_type": "code",
      "source": [
        "model = MyLinearRegression()\n",
        "model.fit(X, y)"
      ],
      "metadata": {
        "id": "igIZ60_6-1_m"
      },
      "execution_count": 41,
      "outputs": []
    },
    {
      "cell_type": "markdown",
      "source": [
        "\n",
        "\n",
        "---\n",
        "\n",
        "\n",
        "2a. Calculate the average least square error\n",
        "\n",
        "---\n"
      ],
      "metadata": {
        "id": "jKpYWnvBPhJl"
      }
    },
    {
      "cell_type": "code",
      "source": [
        "y_pred = model.predict(X)\n",
        "alse = model.alse(y, y_pred)\n",
        "print(f'The average least square error is: {alse}')"
      ],
      "metadata": {
        "id": "F-kQSScDPosg",
        "colab": {
          "base_uri": "https://localhost:8080/"
        },
        "outputId": "0429f591-02d1-4721-a357-02242c90c1c8"
      },
      "execution_count": 42,
      "outputs": [
        {
          "output_type": "stream",
          "name": "stdout",
          "text": [
            "The average least square error is: 4985.89536197685\n"
          ]
        }
      ]
    },
    {
      "cell_type": "markdown",
      "source": [
        "\n",
        "---\n",
        "\n",
        "\n",
        "**Question 2b and 2c**\n",
        "\n",
        "---\n",
        "\n"
      ],
      "metadata": {
        "id": "QLUIR8jn-Qv5"
      }
    },
    {
      "cell_type": "code",
      "source": [
        "import seaborn as sns\n",
        "\n",
        "correlation_mat = data.corr()\n",
        "top_correlated_features = correlation_mat.index\n",
        "plt.figure(figsize=(10, 8))\n",
        "sns.heatmap(data[top_correlated_features].corr(), cmap=\"RdYlGn\", annot=True)"
      ],
      "metadata": {
        "id": "vmkimHOfQBno",
        "colab": {
          "base_uri": "https://localhost:8080/",
          "height": 584
        },
        "outputId": "b5fbb684-3adf-4171-dbca-2479afb5e13f"
      },
      "execution_count": 43,
      "outputs": [
        {
          "output_type": "execute_result",
          "data": {
            "text/plain": [
              "<matplotlib.axes._subplots.AxesSubplot at 0x7fcd1d507d90>"
            ]
          },
          "metadata": {},
          "execution_count": 43
        },
        {
          "output_type": "display_data",
          "data": {
            "text/plain": [
              "<Figure size 720x576 with 2 Axes>"
            ],
            "image/png": "[encoded data removed]"
          },
          "metadata": {
            "needs_background": "light"
          }
        }
      ]
    },
    {
      "cell_type": "markdown",
      "source": [
        "\n",
        "\n",
        "\n",
        "---\n",
        "\n",
        "\n",
        "Using the above plot we can get a sense of the correlations of the different features to both the target (Price) and to each other. However, this does not give us an accurate information as to which feature contributes most or least to the final value (target) of the model.\n",
        "\n",
        "Hence, we can use the weight of the features to get a sense of their importance to the model."
      ],
      "metadata": {
        "id": "NLP_ZaapSrbx"
      }
    },
    {
      "cell_type": "code",
      "source": [
        "def get_features_importance():\n",
        "  model = MyLinearRegression()\n",
        "  model.fit(X, y)\n",
        "\n",
        "  weights = model.w\n",
        "  abs_weights = np.abs(weights)\n",
        "\n",
        "  features = X.columns\n",
        "\n",
        "  weights_to_features = {}\n",
        "  features_to_weights = {}\n",
        "  for i in range(len(features)):\n",
        "    weights_to_features[abs_weights[i][0]] = features[i]\n",
        "    features_to_weights[features[i]] = weights[i][0]\n",
        "\n",
        "  most, least = np.max(abs_weights), np.min(abs_weights)\n",
        "\n",
        "  most_feature = weights_to_features[most]\n",
        "  least_feature = weights_to_features[least]\n",
        "  \n",
        "  return [(most_feature, features_to_weights[most_feature]), (least_feature, features_to_weights[least_feature])]"
      ],
      "metadata": {
        "id": "PxJloNcRJQUe"
      },
      "execution_count": 44,
      "outputs": []
    },
    {
      "cell_type": "code",
      "source": [
        "most_and_least_list = get_features_importance()"
      ],
      "metadata": {
        "id": "4B1pRYzzSIF5"
      },
      "execution_count": 45,
      "outputs": []
    },
    {
      "cell_type": "code",
      "source": [
        "def predict_price(model, feature):\n",
        "  X_new = X[feature].values\n",
        "  X_new = np.reshape(X_new.flatten(), (X_new.shape[0], 1))\n",
        "\n",
        "  model.fit(X_new, y)\n",
        "  return model.predict(X_new)"
      ],
      "metadata": {
        "id": "eRYj9U_GTvOc"
      },
      "execution_count": 46,
      "outputs": []
    },
    {
      "cell_type": "markdown",
      "source": [
        "\n",
        "\n",
        "---\n",
        "\n",
        "\n",
        "2b. Which feature has the most effect on the final value? How do you know this? And can you use only it to predict the price?\n",
        "\n",
        "\n",
        "\n",
        "---\n",
        "\n"
      ],
      "metadata": {
        "id": "8knC2h_MSzaj"
      }
    },
    {
      "cell_type": "code",
      "source": [
        "most = most_and_least_list[0]\n",
        "print(f\"'{most[0]}' has the most effect on the final value since it has the largest weight ({most[1]}).\")"
      ],
      "metadata": {
        "colab": {
          "base_uri": "https://localhost:8080/"
        },
        "id": "oEsv9vd4PEyx",
        "outputId": "6dbdb6c1-d1d3-47e1-ab0e-fdfa3231dac7"
      },
      "execution_count": 47,
      "outputs": [
        {
          "output_type": "stream",
          "name": "stdout",
          "text": [
            "'Local Price' has the most effect on the final value since it has the largest weight (3.030669816790062).\n"
          ]
        }
      ]
    },
    {
      "cell_type": "markdown",
      "source": [
        "\n",
        "\n",
        "---\n",
        "\n",
        "\n",
        "Yes, only the feature can be used to predict the price."
      ],
      "metadata": {
        "id": "6Vz5gzzMRt5f"
      }
    },
    {
      "cell_type": "code",
      "source": [
        "model = MyLinearRegression()\n",
        "y_pred = predict_price(model, most[0])\n",
        "print(y_pred)"
      ],
      "metadata": {
        "id": "gp_9L4HsReGk",
        "colab": {
          "base_uri": "https://localhost:8080/"
        },
        "outputId": "5563bce5-a4a5-4cd3-9027-c0660d986598"
      },
      "execution_count": 48,
      "outputs": [
        {
          "output_type": "stream",
          "name": "stdout",
          "text": [
            "[[25.39189683]\n",
            " [25.92476729]\n",
            " [23.45714334]\n",
            " [23.53149736]\n",
            " [26.1256264 ]\n",
            " [20.09107503]\n",
            " [30.45416616]\n",
            " [28.93558863]\n",
            " [84.78526605]\n",
            " [74.66279278]\n",
            " [30.09375572]\n",
            " [27.3679581 ]\n",
            " [32.38117444]\n",
            " [30.77017073]\n",
            " [26.07554071]\n",
            " [28.93558863]\n",
            " [42.58006711]\n",
            " [34.57926506]\n",
            " [40.19299335]\n",
            " [46.66953805]\n",
            " [30.92610763]\n",
            " [38.94394914]\n",
            " [45.41326497]\n",
            " [31.46155982]\n",
            " [43.17025212]\n",
            " [42.03067354]\n",
            " [47.2024085 ]\n",
            " [61.96168089]]\n"
          ]
        }
      ]
    },
    {
      "cell_type": "code",
      "source": [],
      "metadata": {
        "id": "UTnZTt7DUwjO"
      },
      "execution_count": 48,
      "outputs": []
    },
    {
      "cell_type": "markdown",
      "source": [
        "2c. Which feature has the least effect on the final value? How do you know this? And can you use only it to predict the price?\n",
        "\n",
        "---\n",
        "\n"
      ],
      "metadata": {
        "id": "1JICbozPQCFJ"
      }
    },
    {
      "cell_type": "code",
      "source": [
        "least = most_and_least_list[1]\n",
        "print(f\"'{least[0]}' has the least effect on the final value since it has the least weight ({least[1]}).\")"
      ],
      "metadata": {
        "id": "fA7yMuwTQDeZ",
        "colab": {
          "base_uri": "https://localhost:8080/"
        },
        "outputId": "e60e785b-e669-40d6-8c2c-3b5a3143c947"
      },
      "execution_count": 49,
      "outputs": [
        {
          "output_type": "stream",
          "name": "stdout",
          "text": [
            "'Age of home' has the least effect on the final value since it has the least weight (-0.06831179537562053).\n"
          ]
        }
      ]
    },
    {
      "cell_type": "markdown",
      "source": [
        "\n",
        "\n",
        "---\n",
        "\n",
        "\n",
        "Yes, only the feature with the least effect can be used to predict the price, however the model produces a very low prediction accuracy."
      ],
      "metadata": {
        "id": "PxLvNrBJV1bV"
      }
    },
    {
      "cell_type": "code",
      "source": [
        "model = MyLinearRegression()\n",
        "\n",
        "X_new = X.drop([least[0]], axis=1)\n",
        "\n",
        "model.fit(X_new, y)\n",
        "\n",
        "y_pred = model.predict(X_new)\n",
        "new_alse = model.alse(y, y_pred)\n",
        "print(f'The original average least square error (ALSE) is: {alse}, while the new ALSE after removing the feature is: {new_alse}')"
      ],
      "metadata": {
        "id": "cFsTGT6dUXPt",
        "colab": {
          "base_uri": "https://localhost:8080/"
        },
        "outputId": "7717ea86-c929-4767-f4c4-ce3b779699cd"
      },
      "execution_count": 50,
      "outputs": [
        {
          "output_type": "stream",
          "name": "stdout",
          "text": [
            "The original average least square error (ALSE) is: 4985.89536197685, while the new ALSE after removing the feature is: 4906.468548408881\n"
          ]
        }
      ]
    },
    {
      "cell_type": "markdown",
      "source": [
        "**As can be seen from the result above, the result improved after removing the least important feature**"
      ],
      "metadata": {
        "id": "IFgQ1g4KhXNI"
      }
    },
    {
      "cell_type": "markdown",
      "source": [
        ". "
      ],
      "metadata": {
        "id": "dP_dmFHxhpol"
      }
    },
    {
      "cell_type": "markdown",
      "source": [
        "\n",
        "---\n",
        "\n",
        "\n",
        "# QUESTION 3\n",
        "\n",
        "---\n"
      ],
      "metadata": {
        "id": "mXbZpALXQH-Q"
      }
    },
    {
      "cell_type": "markdown",
      "source": [
        "To implement a locally weighted linear regression, we need to use the normal equations and not gradient descent for learning the parameters of the model.\n",
        "\n",
        "\\\n",
        "\\begin{equation}\n",
        "  Θ = (X^TX)^{-1}X^Ty\n",
        "\\end{equation}"
      ],
      "metadata": {
        "id": "oTkCM01Jp45Z"
      }
    },
    {
      "cell_type": "code",
      "source": [
        "# Compute the weight of the query value\n",
        "\n",
        "def get_point_weights(X, test_val, tau):\n",
        "  m = X.shape[0]\n",
        "  w = np.zeros((m, 1))\n",
        "\n",
        "  for i in range(m):\n",
        "    multiplier = -1/(2 * tau ** 2)\n",
        "    w[i] = np.exp(multiplier * (X[i, :] - test_val) ** 2)\n",
        "\n",
        "  return w"
      ],
      "metadata": {
        "id": "YyVxdkFkr9yF"
      },
      "execution_count": 51,
      "outputs": []
    },
    {
      "cell_type": "markdown",
      "source": [
        "To make predictions, we need to use the equation below to compute the weights.\n",
        "\n",
        "\\\n",
        "\\begin{equation}\n",
        "  Θ = (X^TWX)^{-1}X^TWY\n",
        "\\end{equation}"
      ],
      "metadata": {
        "id": "c5nWImxKxQ4u"
      }
    },
    {
      "cell_type": "code",
      "source": [
        "# Compute the value of theta for the query value\n",
        "\n",
        "def compute_theta(X, y, test_val):\n",
        "  W = get_point_weights(X, test_val, 0.5)\n",
        "  W = W.ravel()\n",
        "  W = np.diag(W)\n",
        "\n",
        "  y = np.reshape(y.flatten(), (y.shape[0], 1))\n",
        "\n",
        "  part1 = np.linalg.pinv(np.dot(np.dot(X.T, W), X))\n",
        "  part2 = np.dot(np.dot(X.T, W), y)\n",
        "\n",
        "  theta = np.dot(part1, part2)\n",
        "\n",
        "  return theta"
      ],
      "metadata": {
        "id": "3wWGqvUYwSfZ"
      },
      "execution_count": 52,
      "outputs": []
    },
    {
      "cell_type": "code",
      "source": [
        "def make_predictions(X, y):\n",
        "    thetas = []\n",
        "    for i in range(X_train.shape[0]):\n",
        "      theta = compute_theta(X, y, X[i, :])\n",
        "      thetas.append(theta[0])\n",
        "\n",
        "    thetas = np.array(thetas)\n",
        "    thetas = np.reshape(thetas, thetas.shape)\n",
        "\n",
        "    return thetas * X"
      ],
      "metadata": {
        "id": "bynng7RfnGTz"
      },
      "execution_count": 53,
      "outputs": []
    },
    {
      "cell_type": "code",
      "source": [
        "y_preds = make_predictions(X_train, y_train)\n",
        "print(y_preds)"
      ],
      "metadata": {
        "id": "G6SYXsurzbtE",
        "colab": {
          "base_uri": "https://localhost:8080/"
        },
        "outputId": "6cd89ded-a57a-4582-c665-63b566f756af"
      },
      "execution_count": 54,
      "outputs": [
        {
          "output_type": "stream",
          "name": "stdout",
          "text": [
            "[[ 7.68464692e+00]\n",
            " [ 1.43452162e+00]\n",
            " [ 2.90878993e+00]\n",
            " [ 2.52603224e+00]\n",
            " [ 9.05308612e+00]\n",
            " [ 3.68013257e+00]\n",
            " [ 6.96312071e+00]\n",
            " [ 2.10259548e+00]\n",
            " [-1.13454624e+01]\n",
            " [ 2.43377957e-01]\n",
            " [-4.22405159e+00]\n",
            " [ 4.92318775e+00]\n",
            " [-1.54650252e+01]\n",
            " [ 1.87870079e+01]\n",
            " [ 1.37276333e+00]\n",
            " [ 2.51651120e+01]\n",
            " [ 1.39674385e+00]\n",
            " [ 2.93268217e+01]\n",
            " [ 1.29704129e+00]\n",
            " [ 2.53175569e+00]\n",
            " [ 8.22863807e-02]\n",
            " [ 5.14530552e+00]\n",
            " [ 1.82803959e+00]\n",
            " [ 5.55458324e+00]\n",
            " [ 5.03937658e+00]\n",
            " [ 9.05133257e+00]\n",
            " [ 7.91444388e+00]\n",
            " [ 4.28031004e+00]\n",
            " [ 2.27739266e+01]\n",
            " [-1.03597691e+00]\n",
            " [ 7.28506732e+00]\n",
            " [ 6.78072767e+00]\n",
            " [ 3.77168544e+00]\n",
            " [ 2.69824329e-02]\n",
            " [ 6.93941347e+00]\n",
            " [ 8.73328491e+00]\n",
            " [ 7.73669878e+00]\n",
            " [ 2.33368722e+00]\n",
            " [ 9.16734680e+00]\n",
            " [ 3.46059392e+00]\n",
            " [ 9.37824799e+00]\n",
            " [ 4.05674965e+00]\n",
            " [ 1.74155397e+01]\n",
            " [ 1.95696919e+01]\n",
            " [ 2.65269822e+00]\n",
            " [-1.35884942e+01]\n",
            " [ 8.25975198e+00]\n",
            " [-1.62126784e+01]\n",
            " [ 1.73992374e+01]\n",
            " [ 7.00373993e-02]\n",
            " [ 1.41107659e-01]\n",
            " [ 9.10303422e+00]\n",
            " [ 3.12713445e+00]\n",
            " [ 2.89204157e+00]\n",
            " [-5.44028382e+00]\n",
            " [-5.79566825e+00]\n",
            " [ 2.46229043e+00]\n",
            " [ 9.08347837e+00]\n",
            " [ 3.28585403e+00]\n",
            " [ 3.57061690e+00]\n",
            " [ 1.57009998e+00]\n",
            " [ 2.13357550e+01]\n",
            " [ 3.84193155e+00]\n",
            " [ 9.38756641e+00]\n",
            " [ 2.49466495e+01]\n",
            " [ 4.52662380e-02]\n",
            " [ 1.22138458e+00]\n",
            " [ 8.31214582e+00]\n",
            " [ 1.05262545e+00]\n",
            " [ 1.37786222e+00]\n",
            " [ 2.69408433e+01]\n",
            " [-8.13447317e+00]\n",
            " [-9.48263889e+00]\n",
            " [ 3.92114843e+00]\n",
            " [ 3.87811909e+00]\n",
            " [ 4.35631487e+00]\n",
            " [ 5.54167988e+00]\n",
            " [ 9.34736988e+00]\n",
            " [ 7.51265724e+00]\n",
            " [ 4.84260703e+00]\n",
            " [ 1.28050208e+00]\n",
            " [ 1.54000848e+00]\n",
            " [ 2.57552362e+00]\n",
            " [ 1.92539823e+00]\n",
            " [ 7.20267992e-01]\n",
            " [ 7.26273704e-02]\n",
            " [ 3.33902224e+00]\n",
            " [ 1.83598790e+00]\n",
            " [-6.93954635e+00]\n",
            " [ 2.97310318e+01]\n",
            " [ 1.02047644e+01]\n",
            " [-3.49153326e-01]\n",
            " [ 8.50353155e+00]\n",
            " [ 4.05019780e+00]\n",
            " [ 7.21102346e+00]\n",
            " [ 8.13643113e+00]\n",
            " [-8.96109545e-03]\n",
            " [ 1.27730920e-01]\n",
            " [-1.36363466e+01]\n",
            " [ 8.14989159e+00]]\n"
          ]
        }
      ]
    },
    {
      "cell_type": "code",
      "source": [
        "# Visualising the relationship between training data and prediction.    \n",
        "\n",
        "plt.plot(X_train, y_train, 'ro', label=\"Actual\")\n",
        "plt.plot(X_train, y_preds, 'bo', label=\"Predicted\")\n",
        "plt.suptitle(\"Locally Weighted Linear regression model\", fontsize=10)\n",
        "plt.legend(loc=\"upper left\")\n",
        "plt.show()"
      ],
      "metadata": {
        "colab": {
          "base_uri": "https://localhost:8080/",
          "height": 294
        },
        "id": "aHioY--BkLhY",
        "outputId": "9425ec4e-1367-46d4-c235-dbae6fcaeebc"
      },
      "execution_count": 55,
      "outputs": [
        {
          "output_type": "display_data",
          "data": {
            "text/plain": [
              "<Figure size 432x288 with 1 Axes>"
            ],
            "image/png": "[encoded data removed]"
          },
          "metadata": {
            "needs_background": "light"
          }
        }
      ]
    },
    {
      "cell_type": "markdown",
      "source": [
        "\n",
        "\n",
        "---\n",
        "\n",
        "\n",
        "3a). No basis function is required\n",
        "\n",
        "3b). The locally weighted linear regression implementation is different from the Iterative Linear Regression in Question 1 in the following ways:\n",
        "\n",
        "\n",
        "*   To make each label prediction, the weights for each point to be predicted has to be computed.\n",
        "*   This leads to high computation costs, but removes the overhead of having to use basis functions to engineer a model that would fit the non-linear data.\n",
        "\n"
      ],
      "metadata": {
        "id": "E6hC_QwYjuam"
      }
    }
  ],
  "metadata": {
    "colab": {
      "collapsed_sections": [],
      "provenance": []
    },
    "kernelspec": {
      "display_name": "Python 3",
      "name": "python3"
    },
    "language_info": {
      "name": "python"
    }
  },
  "nbformat": 4,
  "nbformat_minor": 0
}